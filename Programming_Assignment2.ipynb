{
 "cells": [
  {
   "cell_type": "code",
   "execution_count": 2,
   "id": "5b3b803b-e3d5-492f-b3c2-e415342357eb",
   "metadata": {},
   "outputs": [
    {
     "name": "stdin",
     "output_type": "stream",
     "text": [
      "Enter value in kilometers:  100\n"
     ]
    },
    {
     "name": "stdout",
     "output_type": "stream",
     "text": [
      " 100.0 kilometers is equal to 62.137100000000004 miles\n"
     ]
    }
   ],
   "source": [
    "#Write a Python program to convert kilometers to miles?\n",
    "\n",
    "kilometers = float(input(\"Enter value in kilometers: \"))\n",
    "\n",
    "conv_fac = 0.621371\n",
    "\n",
    "miles = kilometers * conv_fac\n",
    "print(f\" {kilometers} kilometers is equal to {miles} miles\")"
   ]
  },
  {
   "cell_type": "code",
   "execution_count": 6,
   "id": "7066272b-4eba-4694-8cec-08323f9c8abd",
   "metadata": {},
   "outputs": [
    {
     "name": "stdin",
     "output_type": "stream",
     "text": [
      "enter the temperature in Celsius 54\n"
     ]
    },
    {
     "name": "stdout",
     "output_type": "stream",
     "text": [
      "54.0 degree Celsius is equal to 129.2 Fahrenheit\n"
     ]
    }
   ],
   "source": [
    "#Write a Python program to convert Celsius to Fahrenheit?\n",
    "\n",
    "Temp_Celsius = float(input(\"enter the temperature in Celsius\"))\n",
    "Fahrenheit = (Temp_Celsius*1.8)+32\n",
    "print(f\"{Temp_Celsius} degree Celsius is equal to {Fahrenheit} Fahrenheit\")"
   ]
  },
  {
   "cell_type": "code",
   "execution_count": 10,
   "id": "0aad5b70-f764-443d-98d9-9c4bb7374f12",
   "metadata": {},
   "outputs": [
    {
     "name": "stdin",
     "output_type": "stream",
     "text": [
      "Enter year:  2022\n",
      "Enter month:  10\n"
     ]
    },
    {
     "name": "stdout",
     "output_type": "stream",
     "text": [
      "    October 2022\n",
      "Mo Tu We Th Fr Sa Su\n",
      "                1  2\n",
      " 3  4  5  6  7  8  9\n",
      "10 11 12 13 14 15 16\n",
      "17 18 19 20 21 22 23\n",
      "24 25 26 27 28 29 30\n",
      "31\n",
      "\n"
     ]
    }
   ],
   "source": [
    "#Write a Python program to display calendar?\n",
    "import calendar   \n",
    "y = int(input(\"Enter year: \"))  \n",
    "m = int(input(\"Enter month: \"))  \n",
    "    \n",
    "print(calendar.month(y,m))  "
   ]
  },
  {
   "cell_type": "code",
   "execution_count": 13,
   "id": "ffbbf2ea-8647-43d7-b752-49c09b4291da",
   "metadata": {},
   "outputs": [
    {
     "name": "stdin",
     "output_type": "stream",
     "text": [
      "enter the vaklue of a 6\n",
      "enter the vaklue of b -5\n",
      "enter the vaklue of c -6\n"
     ]
    },
    {
     "name": "stdout",
     "output_type": "stream",
     "text": [
      "The solutions are (-0.6666666666666666+0j) and (1.5+0j)\n"
     ]
    }
   ],
   "source": [
    "#Write a Python program to solve quadratic equation?\n",
    "\n",
    "# Solve the quadratic equation ax**2 + bx + c = 0\n",
    "\n",
    "import cmath\n",
    "\n",
    "a = int(input(\"enter the vaklue of a\"))\n",
    "b = int(input(\"enter the vaklue of b\"))\n",
    "c = int(input(\"enter the vaklue of c\"))\n",
    "\n",
    "\n",
    "d = (b**2) - (4*a*c)\n",
    "\n",
    "# find two solutions\n",
    "sol1 = (-b-cmath.sqrt(d))/(2*a)\n",
    "sol2 = (-b+cmath.sqrt(d))/(2*a)\n",
    "\n",
    "print(f\"The solutions are {sol1} and {sol2}\")\n"
   ]
  },
  {
   "cell_type": "code",
   "execution_count": 16,
   "id": "acde3f89-dce5-46f9-a32f-67cbc13b5d71",
   "metadata": {},
   "outputs": [
    {
     "name": "stdin",
     "output_type": "stream",
     "text": [
      "enter the value of x:  8\n",
      "enter the value of y:  6\n"
     ]
    },
    {
     "name": "stdout",
     "output_type": "stream",
     "text": [
      "Before swapping values are : x is 8 and y is 6\n",
      "After swapping the values are : x is 6 and  y is 8\n"
     ]
    }
   ],
   "source": [
    "#Write a Python program to swap two variables without temp variable?\n",
    "x = int(input(\"enter the value of x: \"))\n",
    "y = int(input(\"enter the value of y: \"))\n",
    "print(f\"Before swapping values are : x is {x} and y is {y}\")\n",
    "x,y = y,x\n",
    "print(f\"After swapping the values are : x is {x} and  y is {y}\")\n",
    "\n",
    "        "
   ]
  },
  {
   "cell_type": "code",
   "execution_count": null,
   "id": "7ba65539-5811-4fe3-b2b9-9de367cbb502",
   "metadata": {},
   "outputs": [],
   "source": []
  }
 ],
 "metadata": {
  "kernelspec": {
   "display_name": "Python 3 (ipykernel)",
   "language": "python",
   "name": "python3"
  },
  "language_info": {
   "codemirror_mode": {
    "name": "ipython",
    "version": 3
   },
   "file_extension": ".py",
   "mimetype": "text/x-python",
   "name": "python",
   "nbconvert_exporter": "python",
   "pygments_lexer": "ipython3",
   "version": "3.10.6"
  }
 },
 "nbformat": 4,
 "nbformat_minor": 5
}
