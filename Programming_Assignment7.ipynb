{
 "cells": [
  {
   "cell_type": "markdown",
   "id": "76a8f1cf",
   "metadata": {},
   "source": [
    "1. Write a Python Program to find sum of array?"
   ]
  },
  {
   "cell_type": "code",
   "execution_count": 9,
   "id": "2db03069",
   "metadata": {},
   "outputs": [
    {
     "name": "stdout",
     "output_type": "stream",
     "text": [
      "25\n"
     ]
    }
   ],
   "source": [
    "from functools import reduce\n",
    "lis = [2,4,5,6,8]\n",
    "x = reduce(lambda x, y: x+y, lis)\n",
    "print(x)"
   ]
  },
  {
   "cell_type": "markdown",
   "id": "ea8e863f",
   "metadata": {},
   "source": [
    "2.Write a Python Program to find largest element in an array?"
   ]
  },
  {
   "cell_type": "code",
   "execution_count": 11,
   "id": "9afb08ed",
   "metadata": {},
   "outputs": [
    {
     "name": "stdout",
     "output_type": "stream",
     "text": [
      "90\n"
     ]
    }
   ],
   "source": [
    "lis = [4,6,23,76,10,90]\n",
    "print(max(lis))"
   ]
  },
  {
   "cell_type": "code",
   "execution_count": 12,
   "id": "56f9bc48",
   "metadata": {},
   "outputs": [
    {
     "name": "stdout",
     "output_type": "stream",
     "text": [
      "90\n"
     ]
    }
   ],
   "source": [
    "lis = [4,6,23,76,10,90]\n",
    "largest = lis[0]\n",
    "for i in lis:\n",
    "    if i>largest:\n",
    "        largest = i\n",
    "print(largest)"
   ]
  },
  {
   "cell_type": "markdown",
   "id": "beabe8a9",
   "metadata": {},
   "source": [
    "3.Write a Python Program for array rotation?"
   ]
  },
  {
   "cell_type": "code",
   "execution_count": 20,
   "id": "cad61f94",
   "metadata": {},
   "outputs": [
    {
     "name": "stdout",
     "output_type": "stream",
     "text": [
      "the array after left rotation by 2 is [23, 76, 10, 90, 4, 6]\n"
     ]
    }
   ],
   "source": [
    "lis = [4,6,23,76,10,90]\n",
    "d = 2\n",
    "temp =[]\n",
    "for i in range(d,len(lis)):\n",
    "    temp.append(lis[i])\n",
    "for j in range(0,d):\n",
    "    temp.append(lis[j])\n",
    "a = temp.copy()\n",
    "print(f\"the array after left rotation by {d} is {a}\")\n",
    "    \n"
   ]
  },
  {
   "cell_type": "markdown",
   "id": "ddf5a728",
   "metadata": {},
   "source": [
    "4. Write a Python Program to Split the array and add the first part to the end?"
   ]
  },
  {
   "cell_type": "code",
   "execution_count": 27,
   "id": "961b6e46",
   "metadata": {},
   "outputs": [
    {
     "name": "stdout",
     "output_type": "stream",
     "text": [
      "[3, 4, 5, 6, 7, 8, 9, 1, 2, 3]\n"
     ]
    }
   ],
   "source": [
    "array = [1,2,3,4,5,6,7,8,9]\n",
    "lis1 = array[0:3]\n",
    "lis2 = array[2:]\n",
    "for i in range (len(lis1)):\n",
    "    lis2.append(lis1[i])\n",
    "print (lis2)"
   ]
  },
  {
   "cell_type": "markdown",
   "id": "65455ec8",
   "metadata": {},
   "source": [
    "5. Write a Python Program to check if given array is Monotonic?"
   ]
  },
  {
   "cell_type": "code",
   "execution_count": 45,
   "id": "23853260",
   "metadata": {},
   "outputs": [
    {
     "name": "stdout",
     "output_type": "stream",
     "text": [
      "given array is not monotonic\n"
     ]
    }
   ],
   "source": [
    "l = [10,9,8,1,7]\n",
    "n = l.copy()\n",
    "if sorted(n)==l or sorted(n,reverse=True)==l:\n",
    "    print(\"given array is monotonic\")\n",
    "else:\n",
    "     print(\"given array is not monotonic\")\n",
    "\n",
    "\n",
    "  \n"
   ]
  },
  {
   "cell_type": "code",
   "execution_count": null,
   "id": "dd75111c",
   "metadata": {},
   "outputs": [],
   "source": []
  }
 ],
 "metadata": {
  "kernelspec": {
   "display_name": "Python 3 (ipykernel)",
   "language": "python",
   "name": "python3"
  },
  "language_info": {
   "codemirror_mode": {
    "name": "ipython",
    "version": 3
   },
   "file_extension": ".py",
   "mimetype": "text/x-python",
   "name": "python",
   "nbconvert_exporter": "python",
   "pygments_lexer": "ipython3",
   "version": "3.9.13"
  }
 },
 "nbformat": 4,
 "nbformat_minor": 5
}
