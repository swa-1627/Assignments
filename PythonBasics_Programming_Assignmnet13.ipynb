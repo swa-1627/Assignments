{
 "cells": [
  {
   "cell_type": "markdown",
   "id": "459192ff",
   "metadata": {},
   "source": [
    "1.Write a program that calculates and prints the value according to the given formula:\n",
    "Q = Square root of [(2 * C * D)/H]\n",
    "Following are the fixed values of C and H:\n",
    "C is 50. H is 30.\n",
    "D is the variable whose values should be input to your program in a comma-separated\n",
    "sequence."
   ]
  },
  {
   "cell_type": "code",
   "execution_count": 2,
   "id": "73ee71e6",
   "metadata": {},
   "outputs": [
    {
     "name": "stdout",
     "output_type": "stream",
     "text": [
      "Enter values of D as comma-separated sequence: 100,150,180\n",
      "[100.0, 150.0, 180.0]\n",
      "Q for corresponding d 100.0 is 18\n",
      "Q for corresponding d 150.0 is 22\n",
      "Q for corresponding d 180.0 is 24\n"
     ]
    }
   ],
   "source": [
    "import math\n",
    "C = 50\n",
    "H = 30\n",
    "D_str =  input(\"Enter values of D as comma-separated sequence: \")\n",
    "D = [float(d) for d in D_str.split(',')]\n",
    "print(D)\n",
    "\n",
    "for i in D:\n",
    "    Q = int(math.sqrt((2 * C * i)/H))\n",
    "    print(f\"Q for corresponding d {i} is {Q}\")"
   ]
  },
  {
   "cell_type": "markdown",
   "id": "e2e406ed",
   "metadata": {},
   "source": [
    "2.Write a program which takes 2 digits, X,Y as input and generates a 2-dimensional array. The\n",
    "element value in the i-th row and j-th column of the array should be i*j."
   ]
  },
  {
   "cell_type": "code",
   "execution_count": 7,
   "id": "4e44de38",
   "metadata": {},
   "outputs": [
    {
     "name": "stdout",
     "output_type": "stream",
     "text": [
      "Enter two digits separated by a comma: 3,5\n",
      "[[0, 0, 0, 0, 0], [0, 1, 2, 3, 4], [0, 2, 4, 6, 8]]\n"
     ]
    }
   ],
   "source": [
    "X, Y = input(\"Enter two digits separated by a comma: \").split(',')\n",
    "X = int(X)\n",
    "Y = int(Y)\n",
    "\n",
    "# create an empty 2-dimensional array with X rows and Y columns\n",
    "array = [[0 for j in range(Y)] for i in range(X)]\n",
    "\n",
    "for i in range(X):\n",
    "    for j in range(Y):\n",
    "        array[i][j]=i*j\n",
    "print(array)"
   ]
  },
  {
   "cell_type": "code",
   "execution_count": 17,
   "id": "5d858e06",
   "metadata": {},
   "outputs": [
    {
     "data": {
      "text/plain": [
       "['4', '5', '7', '9']"
      ]
     },
     "execution_count": 17,
     "metadata": {},
     "output_type": "execute_result"
    }
   ],
   "source": [
    "a.split(\",\")"
   ]
  },
  {
   "cell_type": "markdown",
   "id": "3faa42c7",
   "metadata": {},
   "source": [
    "3.Write a program that accepts a comma separated sequence of words as input and prints the\n",
    "words in a comma-separated sequence after sorting them alphabetically."
   ]
  },
  {
   "cell_type": "code",
   "execution_count": 3,
   "id": "c5bfc3d1",
   "metadata": {},
   "outputs": [
    {
     "name": "stdout",
     "output_type": "stream",
     "text": [
      "Enter a comma-separated sequence of words: without,hello,bag,world\n",
      "bag,hello,without,world\n"
     ]
    }
   ],
   "source": [
    "words = input(\"Enter a comma-separated sequence of words: \")\n",
    "words_list = words.split(',')\n",
    "words_list.sort()\n",
    "sorted_words = \",\".join(words_list)\n",
    "print(sorted_words)"
   ]
  },
  {
   "cell_type": "markdown",
   "id": "8e1aeebd",
   "metadata": {},
   "source": [
    "4.Write a program that accepts a sequence of whitespace separated words as input and prints\n",
    "the words after removing all duplicate words and sorting them alphanumerically."
   ]
  },
  {
   "cell_type": "code",
   "execution_count": 21,
   "id": "50a146ef",
   "metadata": {},
   "outputs": [
    {
     "name": "stdout",
     "output_type": "stream",
     "text": [
      "Enter white space-separated sequence of words: hello world and practice makes perfect and hello world again\n",
      "again and hello makes perfect practice world\n"
     ]
    }
   ],
   "source": [
    "words = input(\"Enter white space-separated sequence of words: \")\n",
    "words_list = words.split(' ')\n",
    "l=[]\n",
    "for i in words_list:\n",
    "    if i not in l:\n",
    "          l.append(i)\n",
    "l.sort()\n",
    "sorted_words = \" \".join(l)\n",
    "print(sorted_words)\n",
    "    \n"
   ]
  },
  {
   "cell_type": "markdown",
   "id": "11f86ee1",
   "metadata": {},
   "source": [
    "5.Write a program that accepts a sentence and calculate the number of letters and digits."
   ]
  },
  {
   "cell_type": "code",
   "execution_count": 30,
   "id": "284b8226",
   "metadata": {},
   "outputs": [
    {
     "name": "stdout",
     "output_type": "stream",
     "text": [
      "enter the sentencehello world! 123\n",
      "letters = 10\n",
      "digits = 3\n"
     ]
    }
   ],
   "source": [
    "sentence = input(\"enter the sentence\")\n",
    "letters =0\n",
    "digits = 0\n",
    "for i in sentence:\n",
    "    if i.isalpha():\n",
    "        letters+=1\n",
    "    elif i.isdigit():\n",
    "        digits+=1\n",
    "print(\"letters =\",letters)\n",
    "print(\"digits =\",digits)\n",
    "        "
   ]
  },
  {
   "cell_type": "markdown",
   "id": "30dd8e3b",
   "metadata": {},
   "source": [
    "6. A website requires the users to input username and password to register. Write a program to\n",
    "check the validity of password input by users."
   ]
  },
  {
   "cell_type": "code",
   "execution_count": 22,
   "id": "d4c18140",
   "metadata": {},
   "outputs": [
    {
     "name": "stdout",
     "output_type": "stream",
     "text": [
      "enter comma seperated passwords ABd1234@1,a F1#,2w3E*,2We3345\n",
      "ABd1234@1\n"
     ]
    }
   ],
   "source": [
    "import re\n",
    "password = input(\"enter comma seperated passwords \").split(',')\n",
    "Flag = True \n",
    "\n",
    "for i in password:\n",
    "    if len(i)<6 or len(i)>12:\n",
    "        Flag = False\n",
    "    \n",
    "    if not re.search(r\"[A-Z]\",i):\n",
    "        Flag = False\n",
    "    \n",
    "    if not re.search(r\"[a-z]\",i):\n",
    "        Flag = False\n",
    "        \n",
    "    if not re.search(r\"[0-9]\",i):\n",
    "        Flag = False \n",
    "    \n",
    "    if not re.search(r\"[$#@]\",i):\n",
    "        Flag = False\n",
    "    \n",
    "    if Flag==True:\n",
    "        print(i)\n",
    "    \n",
    "\n",
    "\n",
    "        \n",
    "        \n",
    "        "
   ]
  },
  {
   "cell_type": "code",
   "execution_count": null,
   "id": "4bcd159d",
   "metadata": {},
   "outputs": [],
   "source": []
  }
 ],
 "metadata": {
  "kernelspec": {
   "display_name": "Python 3 (ipykernel)",
   "language": "python",
   "name": "python3"
  },
  "language_info": {
   "codemirror_mode": {
    "name": "ipython",
    "version": 3
   },
   "file_extension": ".py",
   "mimetype": "text/x-python",
   "name": "python",
   "nbconvert_exporter": "python",
   "pygments_lexer": "ipython3",
   "version": "3.9.13"
  }
 },
 "nbformat": 4,
 "nbformat_minor": 5
}
