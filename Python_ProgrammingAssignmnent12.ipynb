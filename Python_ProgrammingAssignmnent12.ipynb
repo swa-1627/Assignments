{
 "cells": [
  {
   "cell_type": "markdown",
   "id": "5b44fabf",
   "metadata": {},
   "source": [
    "1. Write a Python program to Extract Unique values dictionary values?"
   ]
  },
  {
   "cell_type": "code",
   "execution_count": 8,
   "id": "145e64dd",
   "metadata": {},
   "outputs": [
    {
     "name": "stdout",
     "output_type": "stream",
     "text": [
      "['red', 'yellow', 'green', 'orange']\n"
     ]
    }
   ],
   "source": [
    "my_dict = {\n",
    "  \"apple\": \"red\",\n",
    "  \"banana\": \"yellow\",\n",
    "  \"grape\": \"green\",\n",
    "  \"orange\": \"orange\",\n",
    "  \"watermelon\": \"red\",\n",
    "  \"strawberry\": \"red\",\n",
    "  \"kiwi\": \"green\",\n",
    "  \"lemon\": \"yellow\"\n",
    "}\n",
    "values =[]\n",
    "for value in my_dict.values():\n",
    "    if value not in values:\n",
    "        values.append(value)\n",
    "print(values)\n",
    "\n",
    "    "
   ]
  },
  {
   "cell_type": "markdown",
   "id": "180e52ff",
   "metadata": {},
   "source": [
    "2.Write a Python program to find the sum of all items in a dictionary?"
   ]
  },
  {
   "cell_type": "code",
   "execution_count": 10,
   "id": "8e47a889",
   "metadata": {},
   "outputs": [
    {
     "name": "stdout",
     "output_type": "stream",
     "text": [
      "The sum of all items: 100\n"
     ]
    }
   ],
   "source": [
    "my_dict = {\"a\": 10, \"b\": 20, \"c\": 30, \"d\": 40}\n",
    "print(\"The sum of all items:\",sum(my_dict.values()))"
   ]
  },
  {
   "cell_type": "markdown",
   "id": "e1d2a295",
   "metadata": {},
   "source": [
    "3.Write a Python program to Merging two Dictionaries?"
   ]
  },
  {
   "cell_type": "code",
   "execution_count": 14,
   "id": "0bcc5fa3",
   "metadata": {},
   "outputs": [
    {
     "name": "stdout",
     "output_type": "stream",
     "text": [
      "the merged dictionary is: \n",
      "{'apple': 'red', 'banana': 'yellow', 'grape': 'green', 'orange': 'orange', 'watermelon': 'red', 'strawberry': 'red', 'kiwi': 'green', 'lemon': 'yellow', 'a': 10, 'b': 20, 'c': 30, 'd': 40}\n"
     ]
    }
   ],
   "source": [
    "my_dict1= {\n",
    "  \"apple\": \"red\",\n",
    "  \"banana\": \"yellow\",\n",
    "  \"grape\": \"green\",\n",
    "  \"orange\": \"orange\",\n",
    "  \"watermelon\": \"red\",\n",
    "  \"strawberry\": \"red\",\n",
    "  \"kiwi\": \"green\",\n",
    "  \"lemon\": \"yellow\"\n",
    "}\n",
    "my_dict2 = {\"a\": 10, \"b\": 20, \"c\": 30, \"d\": 40}\n",
    "print(\"the merged dictionary is: \")\n",
    "for key,value in my_dict2.items():\n",
    "    my_dict1[key]=value\n",
    "print(my_dict1)"
   ]
  },
  {
   "cell_type": "code",
   "execution_count": 16,
   "id": "4f0aad8b",
   "metadata": {},
   "outputs": [
    {
     "name": "stdout",
     "output_type": "stream",
     "text": [
      "the merged dictionary is: {'apple': 'red', 'banana': 'yellow', 'grape': 'green', 'orange': 'orange', 'watermelon': 'red', 'strawberry': 'red', 'kiwi': 'green', 'lemon': 'yellow', 'a': 10, 'b': 20, 'c': 30, 'd': 40}\n"
     ]
    }
   ],
   "source": [
    "my_dict1.update(my_dict2)\n",
    "print(\"the merged dictionary is:\", my_dict1)"
   ]
  },
  {
   "cell_type": "markdown",
   "id": "cbfc730b",
   "metadata": {},
   "source": [
    "4.Write a Python program to convert key-values list to flat dictionary?"
   ]
  },
  {
   "cell_type": "code",
   "execution_count": 23,
   "id": "831d3f3f",
   "metadata": {},
   "outputs": [
    {
     "name": "stdout",
     "output_type": "stream",
     "text": [
      "{'a': 1, 'b': 2, 'c': 3, 'd': 4}\n"
     ]
    }
   ],
   "source": [
    "key_list = [\"a\", \"b\", \"c\", \"d\"]\n",
    "value_list = [1, 2, 3, 4]\n",
    "flat_dictionary = dict(zip(key_list,value_list))\n",
    "print(flat_dictionary)\n"
   ]
  },
  {
   "cell_type": "code",
   "execution_count": 24,
   "id": "ee30699c",
   "metadata": {},
   "outputs": [
    {
     "name": "stdout",
     "output_type": "stream",
     "text": [
      "{'a': 1, 'b': 2, 'c': 3, 'd': 4}\n"
     ]
    }
   ],
   "source": [
    "flat_dict = {key_list[i]:value_list[i] for i in range (len(key_list))}\n",
    "print(flat_dict)"
   ]
  },
  {
   "cell_type": "code",
   "execution_count": 2,
   "id": "a39e6f1c",
   "metadata": {},
   "outputs": [
    {
     "name": "stdout",
     "output_type": "stream",
     "text": [
      "{'a': 1, 'b': 2, 'c': 3, 'd': 4}\n"
     ]
    }
   ],
   "source": [
    "key_list = [\"a\", \"b\", \"c\", \"d\"]\n",
    "value_list = [1, 2, 3, 4]\n",
    "flatdictionary ={}\n",
    "for i in range(len(key_list)):\n",
    "    flatdictionary[key_list[i]]=value_list[i]\n",
    "print(flatdictionary)"
   ]
  },
  {
   "cell_type": "markdown",
   "id": "b520b91f",
   "metadata": {},
   "source": [
    "5.Write a Python program to insertion at the beginning in OrderedDict?"
   ]
  },
  {
   "cell_type": "code",
   "execution_count": 13,
   "id": "67162e87",
   "metadata": {},
   "outputs": [
    {
     "name": "stdout",
     "output_type": "stream",
     "text": [
      "original dictionary is:  {'a': 1, 'b': 2}\n",
      "New dictionary is:  {'c': 3, 'a': 1, 'b': 2}\n"
     ]
    }
   ],
   "source": [
    "from collections import OrderedDict\n",
    "dictionary = {'a': 1, 'b': 2}\n",
    "print(\"original dictionary is: \",dictionary)\n",
    "original_dict = OrderedDict([('a',1),('b',2)])\n",
    "update_item = ('c',3)\n",
    "update_dict = OrderedDict([update_item])\n",
    "update_dict.update(original_dict)\n",
    "print(\"New dictionary is: \",dict(update_dict))\n",
    "\n"
   ]
  },
  {
   "cell_type": "markdown",
   "id": "4c883048",
   "metadata": {},
   "source": [
    "6.Write a Python program to check order of character in string using OrderedDict()?"
   ]
  },
  {
   "cell_type": "code",
   "execution_count": 4,
   "id": "d18faa1f",
   "metadata": {},
   "outputs": [],
   "source": [
    "from collections import OrderedDict\n",
    "\n",
    "def check_order(input_str, pattern):\n",
    "    # Create an OrderedDict from the pattern\n",
    "    pattern_dict = OrderedDict.fromkeys(pattern)\n",
    "    indices = []\n",
    "    # Loop through the input string and check if each character is in the pattern dictionary\n",
    "    for char in input_str:\n",
    "        if char in pattern_dict:\n",
    "            indices.append(list(pattern_dict.keys()).index(char))\n",
    "    return indices == sorted(indices)"
   ]
  },
  {
   "cell_type": "code",
   "execution_count": 5,
   "id": "d8a7ec42",
   "metadata": {},
   "outputs": [
    {
     "data": {
      "text/plain": [
       "True"
      ]
     },
     "execution_count": 5,
     "metadata": {},
     "output_type": "execute_result"
    }
   ],
   "source": [
    "check_order(\"ineuron\",\"ur\")"
   ]
  },
  {
   "cell_type": "markdown",
   "id": "753b763b",
   "metadata": {},
   "source": [
    "7.Write a Python program to sort Python Dictionaries by Key or Value?"
   ]
  },
  {
   "cell_type": "code",
   "execution_count": 24,
   "id": "59db3959",
   "metadata": {},
   "outputs": [
    {
     "name": "stdout",
     "output_type": "stream",
     "text": [
      "dict_items([('apple', 5), ('cherry', 2), ('banana', 4), ('date', 1), ('elderberry', 3)])\n",
      "Original Dictionary:  {'apple': 5, 'cherry': 2, 'banana': 4, 'date': 1, 'elderberry': 3}\n",
      "Sorted Dictionary by Keys:  {'apple': 5, 'banana': 4, 'cherry': 2, 'date': 1, 'elderberry': 3}\n",
      "Sorted Dictionary by Values:  {'date': 1, 'cherry': 2, 'elderberry': 3, 'banana': 4, 'apple': 5}\n"
     ]
    }
   ],
   "source": [
    "# Sample dictionary\n",
    "sample_dict = {'apple': 5, 'cherry': 2, 'banana': 4, 'date': 1, 'elderberry': 3}\n",
    "\n",
    "# Sorting dictionary by keys\n",
    "sorted_dict_keys = dict(sorted(sample_dict.items()))\n",
    "\n",
    "# Sorting dictionary by values\n",
    "sorted_dict_values = dict(sorted(sample_dict.items(), key=lambda item: item[1]))\n",
    "\n",
    "# Printing the original and sorted dictionaries\n",
    "print(\"Original Dictionary: \", sample_dict)\n",
    "print(\"Sorted Dictionary by Keys: \", sorted_dict_keys)\n",
    "print(\"Sorted Dictionary by Values: \", sorted_dict_values)\n",
    "\n",
    "    \n"
   ]
  },
  {
   "cell_type": "code",
   "execution_count": null,
   "id": "d2db1f43",
   "metadata": {},
   "outputs": [],
   "source": []
  }
 ],
 "metadata": {
  "kernelspec": {
   "display_name": "Python 3 (ipykernel)",
   "language": "python",
   "name": "python3"
  },
  "language_info": {
   "codemirror_mode": {
    "name": "ipython",
    "version": 3
   },
   "file_extension": ".py",
   "mimetype": "text/x-python",
   "name": "python",
   "nbconvert_exporter": "python",
   "pygments_lexer": "ipython3",
   "version": "3.9.13"
  }
 },
 "nbformat": 4,
 "nbformat_minor": 5
}
