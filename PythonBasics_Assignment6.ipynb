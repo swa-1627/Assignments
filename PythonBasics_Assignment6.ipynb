{
 "cells": [
  {
   "cell_type": "markdown",
   "id": "1c99dfbd",
   "metadata": {},
   "source": [
    "1. What are escape characters, and how do you use them?"
   ]
  },
  {
   "cell_type": "markdown",
   "id": "532978a6",
   "metadata": {},
   "source": [
    "Escape characters are special characters in programming and computer science that are used to interpret characters that would otherwise be treated as literal characters. These characters are preceded by a backslash (\\), which signals to the system that the following character should be interpreted in a special way.\n",
    "\n",
    "\n",
    "\\n: Newline character, used to represent a line break or line feed\n",
    "\\t: Tab character, used to represent a horizontal tab\n",
    "\\r: Carriage return, used to represent a return to the beginning of the line"
   ]
  },
  {
   "cell_type": "markdown",
   "id": "d13050ee",
   "metadata": {},
   "source": [
    " 2. What do the escape characters n and t stand for?"
   ]
  },
  {
   "cell_type": "markdown",
   "id": "73b047ed",
   "metadata": {},
   "source": [
    "\\n: Newline character, used to represent a line break or line feed\n",
    "\\t: Tab character, used to represent a horizontal tab"
   ]
  },
  {
   "cell_type": "markdown",
   "id": "4ce9adea",
   "metadata": {},
   "source": [
    "3.What is the way to include backslash characters in a string?"
   ]
  },
  {
   "cell_type": "code",
   "execution_count": 5,
   "id": "f93f2588",
   "metadata": {},
   "outputs": [
    {
     "name": "stdout",
     "output_type": "stream",
     "text": [
      "Ineuron \\ FSDS\n"
     ]
    }
   ],
   "source": [
    "#''\\\\'': Backslash character, used to represent a literal backslash character\n",
    "print(\"Ineuron \\\\ FSDS\")"
   ]
  },
  {
   "cell_type": "markdown",
   "id": "c874ed6d",
   "metadata": {},
   "source": [
    "4.The string &quot;Howl&#39;s Moving Castle&quot; is a correct value. Why isn&#39;t the single quote character in the\n",
    "word Howl&#39;s not escaped a problem?"
   ]
  },
  {
   "cell_type": "markdown",
   "id": "e47fbb49",
   "metadata": {},
   "source": [
    "In the case of the string \"Howl's Moving Castle\", the double quotes are used to define the string, and the single quote character within the string does not need to be escaped. This is because the single quote character is not being used to define the string, and is instead treated as a literal character within the string.\n",
    "\n",
    "If you wanted to use single quotes to define the string, you would need to escape the single quotes within the string, like this: 'Howl\\'s Moving Castle'. "
   ]
  },
  {
   "cell_type": "code",
   "execution_count": 10,
   "id": "a51ec7a9",
   "metadata": {},
   "outputs": [
    {
     "name": "stdout",
     "output_type": "stream",
     "text": [
      "Howl's Moving Castle\n",
      "Howl's Moving Castle\n"
     ]
    }
   ],
   "source": [
    "a = 'Howl\\'s Moving Castle'\n",
    "b = \"Howl's Moving Castle\" \n",
    "print(a)\n",
    "print(b)"
   ]
  },
  {
   "cell_type": "markdown",
   "id": "332ca328",
   "metadata": {},
   "source": [
    "5.How do you write a string of newlines if you don&#39;t want to use the n character?"
   ]
  },
  {
   "cell_type": "code",
   "execution_count": 14,
   "id": "c664321e",
   "metadata": {},
   "outputs": [
    {
     "name": "stdout",
     "output_type": "stream",
     "text": [
      "Hi\n",
      "am a student\n",
      "of Ineuron\n"
     ]
    }
   ],
   "source": [
    "#Using triple quotes:\n",
    "print(\"\"\"Hi\n",
    "am a student\n",
    "of Ineuron\"\"\")"
   ]
  },
  {
   "cell_type": "markdown",
   "id": "ae3b4cb3",
   "metadata": {},
   "source": [
    "6.What are the values of the given expressions?\n"
   ]
  },
  {
   "cell_type": "code",
   "execution_count": 18,
   "id": "0670f253",
   "metadata": {},
   "outputs": [
    {
     "name": "stdout",
     "output_type": "stream",
     "text": [
      "e\n",
      "Hello\n",
      "Hello\n",
      "lo,world!\n"
     ]
    }
   ],
   "source": [
    "print('Hello,world!'[1])\n",
    "print('Hello,world!'[0:5])\n",
    "print('Hello,world!'[:5])\n",
    "print('Hello,world!'[3:])"
   ]
  },
  {
   "cell_type": "markdown",
   "id": "083325fb",
   "metadata": {},
   "source": [
    "7. What are the values of the following expressions?"
   ]
  },
  {
   "cell_type": "code",
   "execution_count": 23,
   "id": "35ee2302",
   "metadata": {},
   "outputs": [
    {
     "name": "stdout",
     "output_type": "stream",
     "text": [
      "HELLO\n",
      "True\n",
      "hello\n"
     ]
    }
   ],
   "source": [
    "print('Hello'.upper())\n",
    "print('Hello'.upper().isupper())\n",
    "print('Hello'.upper().lower())"
   ]
  },
  {
   "cell_type": "markdown",
   "id": "9c644705",
   "metadata": {},
   "source": [
    "8. What are the values of the following expressions?"
   ]
  },
  {
   "cell_type": "code",
   "execution_count": 27,
   "id": "ec7b82f2",
   "metadata": {},
   "outputs": [
    {
     "name": "stdout",
     "output_type": "stream",
     "text": [
      "['Remember,', 'remember,', 'the', 'fifth', 'of', 'July']\n",
      "There-can-only-one\n"
     ]
    }
   ],
   "source": [
    "print('Remember, remember, the fifth of July'.split())\n",
    "print('-'.join('There can only one'.split()))"
   ]
  },
  {
   "cell_type": "markdown",
   "id": "854a7431",
   "metadata": {},
   "source": [
    "9. What are the methods for right-justifying, left-justifying, and centering a string?"
   ]
  },
  {
   "cell_type": "markdown",
   "id": "0e3768c9",
   "metadata": {},
   "source": [
    "In Python, you can right-justify, left-justify, and center a string by using the str.rjust(), str.ljust(), and str.center() methods, respectively."
   ]
  },
  {
   "cell_type": "markdown",
   "id": "570788a4",
   "metadata": {},
   "source": [
    "10.What is the best way to remove whitespace characters from the start or end?"
   ]
  },
  {
   "cell_type": "code",
   "execution_count": 34,
   "id": "16b907b9",
   "metadata": {},
   "outputs": [
    {
     "name": "stdout",
     "output_type": "stream",
     "text": [
      "ineuron\n",
      "ineuron\n",
      "ineuron\n"
     ]
    }
   ],
   "source": [
    "s =\"         ineuron                     \"\n",
    "print(s.strip())\n",
    "a = \"            ineuron\"\n",
    "print(a.lstrip())\n",
    "b = \"ineuron            \"\n",
    "print(b.rstrip())"
   ]
  },
  {
   "cell_type": "code",
   "execution_count": null,
   "id": "c95d470e",
   "metadata": {},
   "outputs": [],
   "source": []
  }
 ],
 "metadata": {
  "kernelspec": {
   "display_name": "Python 3 (ipykernel)",
   "language": "python",
   "name": "python3"
  },
  "language_info": {
   "codemirror_mode": {
    "name": "ipython",
    "version": 3
   },
   "file_extension": ".py",
   "mimetype": "text/x-python",
   "name": "python",
   "nbconvert_exporter": "python",
   "pygments_lexer": "ipython3",
   "version": "3.9.13"
  }
 },
 "nbformat": 4,
 "nbformat_minor": 5
}
