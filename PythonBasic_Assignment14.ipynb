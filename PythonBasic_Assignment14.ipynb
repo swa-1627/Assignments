{
 "cells": [
  {
   "cell_type": "markdown",
   "id": "e2d27ec6",
   "metadata": {},
   "source": [
    "1.Define a class with a generator which can iterate the numbers, which are divisible by\n",
    "7, between a given range 0 and n."
   ]
  },
  {
   "cell_type": "code",
   "execution_count": 11,
   "id": "8b0943ae",
   "metadata": {},
   "outputs": [],
   "source": [
    "class Divisibleby7:\n",
    "    \n",
    "    def __init__(self,n):\n",
    "        self.n = n\n",
    "    \n",
    "    def __iter__(self):\n",
    "        return self.generator()\n",
    "    \n",
    "    def generator(self):\n",
    "        for i in range(self.n+1):\n",
    "            if i % 7 ==0:\n",
    "                yield i"
   ]
  },
  {
   "cell_type": "code",
   "execution_count": 14,
   "id": "689c3782",
   "metadata": {},
   "outputs": [
    {
     "name": "stdout",
     "output_type": "stream",
     "text": [
      "0\n",
      "7\n",
      "14\n",
      "21\n",
      "28\n",
      "35\n",
      "42\n",
      "49\n"
     ]
    }
   ],
   "source": [
    "divisible_by_7 = Divisibleby7(50)\n",
    "for num in divisible_by_7:\n",
    "     print(num)"
   ]
  },
  {
   "cell_type": "markdown",
   "id": "568829c4",
   "metadata": {},
   "source": [
    "2.Write a program to compute the frequency of the words from the input. The output\n",
    "should output after sorting the key alphanumerically."
   ]
  },
  {
   "cell_type": "code",
   "execution_count": 45,
   "id": "e25f847c",
   "metadata": {},
   "outputs": [
    {
     "name": "stdout",
     "output_type": "stream",
     "text": [
      "enter the sentence: New to Python or choosing between Python 2 and Python 3? Read Python 2 or Python 3.\n"
     ]
    },
    {
     "data": {
      "text/plain": [
       "{'2': 2,\n",
       " '3.': 1,\n",
       " '3?': 1,\n",
       " 'New': 1,\n",
       " 'Python': 5,\n",
       " 'Read': 1,\n",
       " 'and': 1,\n",
       " 'between': 1,\n",
       " 'choosing': 1,\n",
       " 'or': 2,\n",
       " 'to': 1}"
      ]
     },
     "execution_count": 45,
     "metadata": {},
     "output_type": "execute_result"
    }
   ],
   "source": [
    "def frequency():\n",
    "    sentence = input(\"enter the sentence: \").split()\n",
    "    count ={}\n",
    "    sentence = sorted(sentence)\n",
    "    for word in sentence:\n",
    "        if word in count:\n",
    "            count[word]+=1\n",
    "        else:\n",
    "            count[word]=1\n",
    "    return count\n",
    "frequency()      "
   ]
  },
  {
   "cell_type": "markdown",
   "id": "0266ac00",
   "metadata": {},
   "source": [
    "3.Define a class Person and its two child classes: Male and Female. All classes have a\n",
    "method &quot;getGender&quot; which can print &quot;Male&quot; for Male class and &quot;Female&quot; for Female\n",
    "class."
   ]
  },
  {
   "cell_type": "code",
   "execution_count": 68,
   "id": "052ec463",
   "metadata": {},
   "outputs": [],
   "source": [
    "class Person:\n",
    "    def getGender(self):\n",
    "        return(\"unknown\")\n",
    "\n",
    "class Male(Person):\n",
    "    def getGender(self):\n",
    "        return(\"Male\")\n",
    "    \n",
    "\n",
    "class Female(Person):\n",
    "    def getGender(self):\n",
    "        return(\"Female\")"
   ]
  },
  {
   "cell_type": "code",
   "execution_count": 69,
   "id": "03f1b0b6",
   "metadata": {},
   "outputs": [
    {
     "name": "stdout",
     "output_type": "stream",
     "text": [
      "unknown\n",
      "Male\n",
      "Female\n"
     ]
    }
   ],
   "source": [
    "p = Person()\n",
    "m = Male()\n",
    "f = Female()\n",
    "\n",
    "print(p.getGender())\n",
    "print(m.getGender())\n",
    "print(f.getGender())\n",
    "\n"
   ]
  },
  {
   "cell_type": "markdown",
   "id": "af855ad7",
   "metadata": {},
   "source": [
    "4.Please write a program to generate all sentences where subject is in [&quot;I&quot;, &quot;You&quot;] and\n",
    "verb is in [&quot;Play&quot;, &quot;Love&quot;] and the object is in [&quot;Hockey&quot;,&quot;Football&quot;]."
   ]
  },
  {
   "cell_type": "code",
   "execution_count": 70,
   "id": "e8883352",
   "metadata": {},
   "outputs": [
    {
     "name": "stdout",
     "output_type": "stream",
     "text": [
      "I Play Hockey\n",
      "I Play Football\n",
      "I Love Hockey\n",
      "I Love Football\n",
      "You Play Hockey\n",
      "You Play Football\n",
      "You Love Hockey\n",
      "You Love Football\n"
     ]
    }
   ],
   "source": [
    "subjects = [\"I\", \"You\"]\n",
    "verbs = [\"Play\", \"Love\"]\n",
    "objects = [\"Hockey\", \"Football\"]\n",
    "\n",
    "for subject in subjects:\n",
    "    for verb in verbs:\n",
    "        for obj in objects:\n",
    "            sentence = subject + \" \" + verb + \" \" + obj\n",
    "            print(sentence)"
   ]
  },
  {
   "cell_type": "markdown",
   "id": "12f41a52",
   "metadata": {},
   "source": [
    "5.Please write a program to compress and decompress the string &quot;hello world!hello\n",
    "world!hello world!hello world!&quot;."
   ]
  },
  {
   "cell_type": "code",
   "execution_count": 3,
   "id": "11d40ab4",
   "metadata": {},
   "outputs": [
    {
     "name": "stdout",
     "output_type": "stream",
     "text": [
      "compressed string is: 'x\\x9cËHÍÉÉW(Ï/ÊIQÌ \\x82\\r\\x00½[\\x11õ'\n",
      "decompressed string is: hello world!hello world!hello world!hello world!\n"
     ]
    }
   ],
   "source": [
    "import zlib\n",
    "\n",
    "string = \"hello world!hello world!hello world!hello world!\"\n",
    "bstring = string.encode('latin-1')\n",
    "compressed_bstring = zlib.compress(bstring)\n",
    "compressed_string = compressed_bstring.decode('latin-1')\n",
    "print(\"compressed string is:\", repr(compressed_string))\n",
    "decompressed_bstring = zlib.decompress(compressed_bstring)\n",
    "decompressed_string = decompressed_bstring.decode('latin-1')\n",
    "print(\"decompressed string is:\", decompressed_string)"
   ]
  },
  {
   "cell_type": "markdown",
   "id": "d054d944",
   "metadata": {},
   "source": [
    "6.Please write a binary search function which searches an item in a sorted list. The\n",
    "function should return the index of element to be searched in the list."
   ]
  },
  {
   "cell_type": "code",
   "execution_count": 16,
   "id": "0346073e",
   "metadata": {},
   "outputs": [],
   "source": [
    "def binarysearch(arr,x):\n",
    "\n",
    "    low = 0\n",
    "    high = len(arr)\n",
    "\n",
    "    while low<=high:\n",
    "    \n",
    "        mid = (low+high)//2\n",
    "\n",
    "        if arr[mid] == x:\n",
    "            return (f\"the index position of {x} is {mid}\")\n",
    "\n",
    "        elif arr[mid] <x:\n",
    "            low = low+1\n",
    "\n",
    "        elif arr[mid] >x:\n",
    "            high = high-1\n",
    "        \n",
    "    return -1\n",
    "\n",
    "    \n",
    "        "
   ]
  },
  {
   "cell_type": "code",
   "execution_count": 18,
   "id": "155b978b",
   "metadata": {},
   "outputs": [
    {
     "data": {
      "text/plain": [
       "'the index position of 2 is 1'"
      ]
     },
     "execution_count": 18,
     "metadata": {},
     "output_type": "execute_result"
    }
   ],
   "source": [
    "binarysearch([1,2,3,4,5],2)"
   ]
  },
  {
   "cell_type": "code",
   "execution_count": 12,
   "id": "64899a5e",
   "metadata": {},
   "outputs": [
    {
     "data": {
      "text/plain": [
       "0"
      ]
     },
     "execution_count": 12,
     "metadata": {},
     "output_type": "execute_result"
    }
   ],
   "source": []
  },
  {
   "cell_type": "code",
   "execution_count": null,
   "id": "a2be0dc6",
   "metadata": {},
   "outputs": [],
   "source": []
  }
 ],
 "metadata": {
  "kernelspec": {
   "display_name": "Python 3 (ipykernel)",
   "language": "python",
   "name": "python3"
  },
  "language_info": {
   "codemirror_mode": {
    "name": "ipython",
    "version": 3
   },
   "file_extension": ".py",
   "mimetype": "text/x-python",
   "name": "python",
   "nbconvert_exporter": "python",
   "pygments_lexer": "ipython3",
   "version": "3.9.13"
  }
 },
 "nbformat": 4,
 "nbformat_minor": 5
}
