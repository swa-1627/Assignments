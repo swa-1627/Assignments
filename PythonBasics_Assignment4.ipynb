{
 "cells": [
  {
   "cell_type": "markdown",
   "id": "cd57b44c",
   "metadata": {},
   "source": [
    "1. What exactly is []?"
   ]
  },
  {
   "cell_type": "raw",
   "id": "61d45b19",
   "metadata": {},
   "source": [
    "Its an empty list."
   ]
  },
  {
   "cell_type": "markdown",
   "id": "67e897f5",
   "metadata": {},
   "source": [
    "2. In a list of values stored in a variable called spam, how would you assign the value &#39;hello&#39; as the\n",
    "third value? (Assume [2, 4, 6, 8, 10] are in spam.)"
   ]
  },
  {
   "cell_type": "code",
   "execution_count": 1,
   "id": "ffb299ee",
   "metadata": {},
   "outputs": [
    {
     "name": "stdout",
     "output_type": "stream",
     "text": [
      "[2, 4, 'hello', 8, 10]\n"
     ]
    }
   ],
   "source": [
    "spam = [2, 4, 6, 8, 10] \n",
    "spam[2]=\"hello\"\n",
    "print(spam)"
   ]
  },
  {
   "cell_type": "markdown",
   "id": "fc211722",
   "metadata": {},
   "source": [
    "Let;s pretend the spam includes the list [a,b,c,d] for the next three queries."
   ]
  },
  {
   "cell_type": "markdown",
   "id": "7a057108",
   "metadata": {},
   "source": [
    "3. What is the value of spam[int(int(&#39;3&#39; * 2) / 11)]?"
   ]
  },
  {
   "cell_type": "code",
   "execution_count": 12,
   "id": "3a670985",
   "metadata": {},
   "outputs": [
    {
     "name": "stdout",
     "output_type": "stream",
     "text": [
      "d\n"
     ]
    }
   ],
   "source": [
    "spam = ['a','b','c','d']\n",
    "c = spam[int(int('3' * 2) / 11)]\n",
    "print(c)"
   ]
  },
  {
   "cell_type": "markdown",
   "id": "725bb264",
   "metadata": {},
   "source": [
    "4. What is the value of spam[-1]?"
   ]
  },
  {
   "cell_type": "code",
   "execution_count": 14,
   "id": "0ad88e42",
   "metadata": {},
   "outputs": [
    {
     "data": {
      "text/plain": [
       "'d'"
      ]
     },
     "execution_count": 14,
     "metadata": {},
     "output_type": "execute_result"
    }
   ],
   "source": [
    "spam[-1]"
   ]
  },
  {
   "cell_type": "markdown",
   "id": "22f86591",
   "metadata": {},
   "source": [
    "5.What is the value of spam[:2]?"
   ]
  },
  {
   "cell_type": "code",
   "execution_count": 16,
   "id": "3c2075a8",
   "metadata": {},
   "outputs": [
    {
     "data": {
      "text/plain": [
       "['a', 'b']"
      ]
     },
     "execution_count": 16,
     "metadata": {},
     "output_type": "execute_result"
    }
   ],
   "source": [
    "spam[:2]"
   ]
  },
  {
   "cell_type": "markdown",
   "id": "3dc829c7",
   "metadata": {},
   "source": [
    "Let&#39;s pretend bacon has the list [3.14, &#39;cat,&#39; 11, &#39;cat,&#39; True] for the next three questions."
   ]
  },
  {
   "cell_type": "markdown",
   "id": "d0eeb3e0",
   "metadata": {},
   "source": [
    "6. What is the value of bacon.index(&#39;cat&#39;)?"
   ]
  },
  {
   "cell_type": "code",
   "execution_count": 23,
   "id": "aeaafb33",
   "metadata": {},
   "outputs": [
    {
     "data": {
      "text/plain": [
       "1"
      ]
     },
     "execution_count": 23,
     "metadata": {},
     "output_type": "execute_result"
    }
   ],
   "source": [
    "bacon= [3.14, 'cat', 11, 'cat', True]\n",
    "bacon.index('cat')"
   ]
  },
  {
   "cell_type": "markdown",
   "id": "ee90539a",
   "metadata": {},
   "source": [
    "7.How does bacon.append(99) change the look of the list value in bacon?"
   ]
  },
  {
   "cell_type": "code",
   "execution_count": 25,
   "id": "ff808874",
   "metadata": {},
   "outputs": [
    {
     "data": {
      "text/plain": [
       "[3.14, 'cat', 11, 'cat', True, 99]"
      ]
     },
     "execution_count": 25,
     "metadata": {},
     "output_type": "execute_result"
    }
   ],
   "source": [
    "bacon.append(99)\n",
    "bacon"
   ]
  },
  {
   "cell_type": "markdown",
   "id": "93ab63f0",
   "metadata": {},
   "source": [
    "8. How does bacon.remove(&#39;cat&#39;) change the look of the list in bacon?"
   ]
  },
  {
   "cell_type": "code",
   "execution_count": 27,
   "id": "c3aeabc2",
   "metadata": {},
   "outputs": [
    {
     "data": {
      "text/plain": [
       "[3.14, 11, True, 99]"
      ]
     },
     "execution_count": 27,
     "metadata": {},
     "output_type": "execute_result"
    }
   ],
   "source": [
    "bacon.remove('cat')\n",
    "bacon"
   ]
  },
  {
   "cell_type": "markdown",
   "id": "7bcbc8a4",
   "metadata": {},
   "source": [
    "9.What are the list concatenation and list replication operators?"
   ]
  },
  {
   "cell_type": "code",
   "execution_count": 31,
   "id": "c2312176",
   "metadata": {},
   "outputs": [
    {
     "name": "stdout",
     "output_type": "stream",
     "text": [
      "concatenated list is [1, 2, 3, 4, 5, 6]\n",
      "list 1 replicated 3 times is [1, 2, 3, 1, 2, 3, 1, 2, 3]\n"
     ]
    }
   ],
   "source": [
    "#In Python, the list concatenation operator is the + symbol and the list replication operator is the * symbol.\n",
    "list1 = [1, 2, 3]\n",
    "list2 = [4, 5, 6]\n",
    "list3 = list1 + list2\n",
    "list4 = list1*3\n",
    "print(\"concatenated list is\",list3,)\n",
    "print(\"list 1 replicated 3 times is\",list4)"
   ]
  },
  {
   "cell_type": "markdown",
   "id": "ace5f249",
   "metadata": {},
   "source": [
    "10.What is difference between the list methods append() and insert()?\n"
   ]
  },
  {
   "cell_type": "code",
   "execution_count": 35,
   "id": "f7f1e2b2",
   "metadata": {},
   "outputs": [
    {
     "data": {
      "text/plain": [
       "[1, 3, 5, 9, 10]"
      ]
     },
     "execution_count": 35,
     "metadata": {},
     "output_type": "execute_result"
    }
   ],
   "source": [
    "#append insert element to the end of the list whereas using insert element can be inserted at desired index location.\n",
    "l = [1,3,5,9]\n",
    "l.append(10)\n",
    "l"
   ]
  },
  {
   "cell_type": "code",
   "execution_count": 41,
   "id": "f935e1e7",
   "metadata": {},
   "outputs": [
    {
     "data": {
      "text/plain": [
       "[1, 2, 3, 4, 5, 6]"
      ]
     },
     "execution_count": 41,
     "metadata": {},
     "output_type": "execute_result"
    }
   ],
   "source": [
    "l = [1,2,3,4,6]\n",
    "l.insert(4,5)\n",
    "l"
   ]
  },
  {
   "cell_type": "markdown",
   "id": "b3d5d1f1",
   "metadata": {},
   "source": [
    "11.What are the two methods for removing items from a list?"
   ]
  },
  {
   "cell_type": "code",
   "execution_count": 42,
   "id": "1d779a64",
   "metadata": {},
   "outputs": [],
   "source": [
    "#remove and pop are the two methods. Remove removes the first occurence of a value and Pop by default removes the last element of the list."
   ]
  },
  {
   "cell_type": "code",
   "execution_count": 45,
   "id": "cf297b39",
   "metadata": {},
   "outputs": [
    {
     "data": {
      "text/plain": [
       "['fsds', 'job guarantee']"
      ]
     },
     "execution_count": 45,
     "metadata": {},
     "output_type": "execute_result"
    }
   ],
   "source": [
    "l = [\"ineuron\",'fsds',\"job guarantee\"]\n",
    "l.remove(\"ineuron\")\n",
    "l"
   ]
  },
  {
   "cell_type": "code",
   "execution_count": 48,
   "id": "340cd420",
   "metadata": {},
   "outputs": [
    {
     "name": "stdout",
     "output_type": "stream",
     "text": [
      "['ineuron', 'fsds']\n"
     ]
    }
   ],
   "source": [
    "l = [\"ineuron\",'fsds',\"job guarantee\"]\n",
    "l.pop()\n",
    "print(l)"
   ]
  },
  {
   "cell_type": "markdown",
   "id": "b8eb8de8",
   "metadata": {},
   "source": [
    "12.Describe how list values and string values are identical."
   ]
  },
  {
   "cell_type": "markdown",
   "id": "3aa1cc42",
   "metadata": {},
   "source": [
    "Both lists and strings are ordered sequences of values.\n",
    "Both lists and strings can be sliced and indexed to access specific elements.\n",
    "Both lists and strings can be iterated over in a for loop."
   ]
  },
  {
   "cell_type": "markdown",
   "id": "660e2cc1",
   "metadata": {},
   "source": [
    "13. What&#39;s the difference between tuples and lists?"
   ]
  },
  {
   "cell_type": "markdown",
   "id": "7b196595",
   "metadata": {},
   "source": [
    "Tuples are immutable, which means that the elements within a tuple cannot be changed or modified once they are created. On the other hand, lists are mutable, which means that the elements within a list can be changed or modified.\n",
    "Tuples are created using parentheses ( ), while lists are created using square brackets [ ].Tuples are often used to store collections of related data that should not be changed, such as dates, coordinates, or other values that have a specific relationship to each other. Lists, on the other hand, are often used to store collections of related data that need to be changed, such as a list of items in a shopping cart."
   ]
  },
  {
   "cell_type": "markdown",
   "id": "c866848e",
   "metadata": {},
   "source": [
    "14.How do you type a tuple value that only contains the integer 42?"
   ]
  },
  {
   "cell_type": "code",
   "execution_count": 54,
   "id": "263a1019",
   "metadata": {},
   "outputs": [
    {
     "data": {
      "text/plain": [
       "tuple"
      ]
     },
     "execution_count": 54,
     "metadata": {},
     "output_type": "execute_result"
    }
   ],
   "source": [
    "tup =(42,)\n",
    "type(tup)"
   ]
  },
  {
   "cell_type": "markdown",
   "id": "0e187477",
   "metadata": {},
   "source": [
    "15.How do you get a list value&#39;s tuple form? How do you get a tuple value&#39;s list form?"
   ]
  },
  {
   "cell_type": "code",
   "execution_count": 56,
   "id": "6ffda323",
   "metadata": {},
   "outputs": [
    {
     "name": "stdout",
     "output_type": "stream",
     "text": [
      "(1, 3, 4, 'ineuron', 'fsds')\n",
      "['a', 'b', 4, 9, 10]\n"
     ]
    }
   ],
   "source": [
    "list1 = [1,3,4,\"ineuron\",\"fsds\"]\n",
    "tup1 = (\"a\",\"b\",4,9,10)\n",
    "print(tuple(list1))\n",
    "print()"
   ]
  },
  {
   "cell_type": "markdown",
   "id": "c0347088",
   "metadata": {},
   "source": [
    "16.Variables that &quot;contain&quot; list values are not necessarily lists themselves. Instead, what do they\n",
    "contain?"
   ]
  },
  {
   "cell_type": "markdown",
   "id": "35c474e6",
   "metadata": {},
   "source": [
    "Variables that \"contain\" list values in Python actually contain references to the list objects, rather than the list objects themselves.\n",
    "\n",
    "In Python, variables do not store values directly, but instead store references to objects that contain the values. When you create a list in Python, an object is created in memory to store the list elements. When you assign the list to a variable, the variable holds a reference to the list object in memory, rather than the actual list elements themselves."
   ]
  },
  {
   "cell_type": "markdown",
   "id": "01445234",
   "metadata": {},
   "source": [
    "17. How do you distinguish between copy.copy() and copy.deepcopy()?"
   ]
  },
  {
   "cell_type": "markdown",
   "id": "2c6cabd9",
   "metadata": {},
   "source": [
    "copy.copy() creates a shallow copy of an object. This means that a new object is created, but it only contains a reference to the objects contained within the original object, rather than copying their values. If the original object contains other objects, those objects are not copied, but are referenced directly in the new object.\n",
    "\n",
    "copy.deepcopy() creates a deep copy of an object. This means that a new object is created that is an independent copy of the original object, including all the objects it contains. The deep copy process recursively copies all objects within the original object, so that no references to original objects are maintained."
   ]
  },
  {
   "cell_type": "code",
   "execution_count": 58,
   "id": "fba46fce",
   "metadata": {},
   "outputs": [
    {
     "name": "stdout",
     "output_type": "stream",
     "text": [
      "Original list: [[42, 2, 3], [4, 5, 6]]\n",
      "Shallow copy: [[42, 2, 3], [4, 5, 6]]\n",
      "Deep copy: [[1, 2, 3], [4, 5, 6]]\n"
     ]
    }
   ],
   "source": [
    "import copy\n",
    "\n",
    "my_list = [[1, 2, 3], [4, 5, 6]]\n",
    "shallow_copy = copy.copy(my_list)\n",
    "deep_copy = copy.deepcopy(my_list)\n",
    "\n",
    "my_list[0][0] = 42\n",
    "\n",
    "print(\"Original list:\", my_list)\n",
    "print(\"Shallow copy:\", shallow_copy)\n",
    "print(\"Deep copy:\", deep_copy)"
   ]
  },
  {
   "cell_type": "code",
   "execution_count": null,
   "id": "1ce91e09",
   "metadata": {},
   "outputs": [],
   "source": []
  }
 ],
 "metadata": {
  "kernelspec": {
   "display_name": "Python 3 (ipykernel)",
   "language": "python",
   "name": "python3"
  },
  "language_info": {
   "codemirror_mode": {
    "name": "ipython",
    "version": 3
   },
   "file_extension": ".py",
   "mimetype": "text/x-python",
   "name": "python",
   "nbconvert_exporter": "python",
   "pygments_lexer": "ipython3",
   "version": "3.9.13"
  }
 },
 "nbformat": 4,
 "nbformat_minor": 5
}
