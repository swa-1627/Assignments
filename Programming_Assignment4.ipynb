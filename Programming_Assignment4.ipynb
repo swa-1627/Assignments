{
  "nbformat": 4,
  "nbformat_minor": 0,
  "metadata": {
    "colab": {
      "provenance": []
    },
    "kernelspec": {
      "name": "python3",
      "display_name": "Python 3"
    },
    "language_info": {
      "name": "python"
    }
  },
  "cells": [
    {
      "cell_type": "markdown",
      "source": [
        "###1.Write a Python Program to Find the Factorial of a Number?"
      ],
      "metadata": {
        "id": "2UIr1Fh8XpnK"
      }
    },
    {
      "cell_type": "code",
      "source": [
        "number = int(input(\"enter a no: \"))\n",
        "fact = 1\n",
        "for i in range(1,number+1):\n",
        "  fact = fact*i\n",
        "print(f\"factorial of the number is {fact}\")\n"
      ],
      "metadata": {
        "colab": {
          "base_uri": "https://localhost:8080/"
        },
        "id": "SjJ_1wUyXxWh",
        "outputId": "ac036dbe-659d-4e52-b98c-74b06770340d"
      },
      "execution_count": 6,
      "outputs": [
        {
          "output_type": "stream",
          "name": "stdout",
          "text": [
            "enter a no: 10\n",
            "factorial of the number is 3628800\n"
          ]
        }
      ]
    },
    {
      "cell_type": "markdown",
      "source": [
        "###2.Write a Python Program to Display the multiplication Table?"
      ],
      "metadata": {
        "id": "tEQ7jJNjYmrJ"
      }
    },
    {
      "cell_type": "code",
      "source": [
        "num = int(input(\"enter the number: \"))\n",
        "for i in range(1,11):\n",
        "  print(f\"{i}*{num} = {i*num}\")"
      ],
      "metadata": {
        "colab": {
          "base_uri": "https://localhost:8080/"
        },
        "id": "yIrrGbvuYRYq",
        "outputId": "4497d97f-2383-472d-f018-a7855a97e5f9"
      },
      "execution_count": 7,
      "outputs": [
        {
          "output_type": "stream",
          "name": "stdout",
          "text": [
            "enter the number: 6\n",
            "1*6 = 6\n",
            "2*6 = 12\n",
            "3*6 = 18\n",
            "4*6 = 24\n",
            "5*6 = 30\n",
            "6*6 = 36\n",
            "7*6 = 42\n",
            "8*6 = 48\n",
            "9*6 = 54\n",
            "10*6 = 60\n"
          ]
        }
      ]
    },
    {
      "cell_type": "markdown",
      "source": [
        "###3.Write a Python Program to Print the Fibonacci sequence?"
      ],
      "metadata": {
        "id": "ZBEV_HFJZQ_v"
      }
    },
    {
      "cell_type": "code",
      "source": [
        "n = int(input(\"enter the upper limit: \"))\n",
        "a = 0\n",
        "b = 1\n",
        "print(b)\n",
        "for i in range(n-1):\n",
        "  c = a+b\n",
        "  b,a = c,b\n",
        "  print(b)"
      ],
      "metadata": {
        "colab": {
          "base_uri": "https://localhost:8080/"
        },
        "id": "O7awdQJkZG-d",
        "outputId": "00d07493-79e1-46bf-de17-df3e49688aac"
      },
      "execution_count": 12,
      "outputs": [
        {
          "output_type": "stream",
          "name": "stdout",
          "text": [
            "enter the upper limit: 6\n",
            "1\n",
            "1\n",
            "2\n",
            "3\n",
            "5\n",
            "8\n"
          ]
        }
      ]
    },
    {
      "cell_type": "markdown",
      "source": [
        "###4. Write a Python Program to Check Armstrong Number?"
      ],
      "metadata": {
        "id": "y1AkxVo_bPfJ"
      }
    },
    {
      "cell_type": "code",
      "source": [
        "number = int(input(\"enter a no: \"))\n",
        "digits = len(str(number))\n",
        "temp = number\n",
        "add_sum = 0\n",
        "while temp!=0:\n",
        "    k = temp % 10\n",
        "    add_sum += k**digits\n",
        "    temp = temp//10\n",
        "if add_sum == number:\n",
        "    print('Given number is an Armstrong Number')\n",
        "else:\n",
        "    print('Given number is not a Armstrong Number')"
      ],
      "metadata": {
        "colab": {
          "base_uri": "https://localhost:8080/"
        },
        "id": "81m1BsZRfOGa",
        "outputId": "49f46c84-fff2-4a28-a40c-3339da482ba1"
      },
      "execution_count": 21,
      "outputs": [
        {
          "output_type": "stream",
          "name": "stdout",
          "text": [
            "enter a no: 407\n",
            "Given number is an Armstrong Number\n"
          ]
        }
      ]
    },
    {
      "cell_type": "markdown",
      "source": [
        "###5.Write a Python Program to Find Armstrong Number in an Interval?"
      ],
      "metadata": {
        "id": "sFoFedUlExni"
      }
    },
    {
      "cell_type": "code",
      "source": [
        "lower_limit = int(input(\"lower limit: \"))\n",
        "upper_limit = int(input(\"upper limit: \"))\n",
        "for i in range(lower_limit,upper_limit+1):\n",
        "  add_sum = 0\n",
        "  digits = len(str(i))\n",
        "  temp = i\n",
        "  while temp!=0:\n",
        "      k = temp % 10\n",
        "      add_sum += k**digits\n",
        "      temp = temp//10\n",
        "  if add_sum == i:\n",
        "      print(i)\n"
      ],
      "metadata": {
        "colab": {
          "base_uri": "https://localhost:8080/"
        },
        "id": "v1661kApgkC7",
        "outputId": "612fd73e-6dd4-4c97-96f7-0d1f37507c83"
      },
      "execution_count": 12,
      "outputs": [
        {
          "output_type": "stream",
          "name": "stdout",
          "text": [
            "lower limit: 100\n",
            "upper limit: 1000\n",
            "153\n",
            "370\n",
            "371\n",
            "407\n"
          ]
        }
      ]
    },
    {
      "cell_type": "markdown",
      "source": [
        "###6.Write a Python Program to Find the Sum of Natural Numbers?"
      ],
      "metadata": {
        "id": "Ac2YMQyhH-0J"
      }
    },
    {
      "cell_type": "code",
      "source": [
        "n = int(input(\"enter the limit: \"))\n",
        "sum = 0\n",
        "for i in range(1,n+1):\n",
        "  sum = sum+i\n",
        "print(f\"the sum of {n} natural numbers is {sum}\")"
      ],
      "metadata": {
        "colab": {
          "base_uri": "https://localhost:8080/"
        },
        "id": "XEvB7oMwFX57",
        "outputId": "e97d0304-bd5e-49ad-ab4b-16d5e704f8a0"
      },
      "execution_count": 15,
      "outputs": [
        {
          "output_type": "stream",
          "name": "stdout",
          "text": [
            "enter the limit: 16\n",
            "the sum of 16 natural numbers is 136\n"
          ]
        }
      ]
    },
    {
      "cell_type": "code",
      "source": [],
      "metadata": {
        "id": "SJxboh-2IUL0"
      },
      "execution_count": null,
      "outputs": []
    }
  ]
}