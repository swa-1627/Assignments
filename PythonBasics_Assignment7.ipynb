{
 "cells": [
  {
   "cell_type": "markdown",
   "id": "2d14f9e1",
   "metadata": {},
   "source": [
    "1. What is the name of the feature responsible for generating Regex objects?"
   ]
  },
  {
   "cell_type": "raw",
   "id": "5c163903",
   "metadata": {},
   "source": [
    "The feature responsible for generating regular expression (regex) objects in Python is called the \"regex module\", or specifically the re module. The re module provides functions for working with regular expressions, including functions for compiling regular expressions into pattern objects, searching for patterns in strings, and performing string substitutions."
   ]
  },
  {
   "cell_type": "markdown",
   "id": "39bd44cf",
   "metadata": {},
   "source": [
    "2.Why do raw strings often appear in Regex objects?"
   ]
  },
  {
   "cell_type": "raw",
   "id": "16f30796",
   "metadata": {},
   "source": [
    "Raw strings are often used in regular expression (regex) objects in Python because regular expressions often contain characters that have special meaning in Python, such as the backslash (\\) character.\n",
    "\n",
    "When a string is declared as a raw string by preceding it with the r prefix, backslashes in the string are not treated as escape characters. This means that you can use backslashes in your regular expression patterns without having to escape them, which can make your code easier to read and maintain."
   ]
  },
  {
   "cell_type": "markdown",
   "id": "20034041",
   "metadata": {},
   "source": [
    "3. What is the return value of the search() method?"
   ]
  },
  {
   "cell_type": "raw",
   "id": "759a1a38",
   "metadata": {},
   "source": [
    "The search() method of the re module in Python returns a Match object if a match is found, or None if no match is found. The Match object represents the first occurrence of the pattern in the string that was searched."
   ]
  },
  {
   "cell_type": "code",
   "execution_count": 2,
   "id": "00a05c64",
   "metadata": {},
   "outputs": [
    {
     "name": "stdout",
     "output_type": "stream",
     "text": [
      "42\n"
     ]
    }
   ],
   "source": [
    "import re\n",
    "\n",
    "text = \"The number is 42 and the date is 2022-01-01.\"\n",
    "pattern = re.compile(r'\\d+')\n",
    "\n",
    "match = re.search(pattern, text)\n",
    "if match:\n",
    "    print(match.group())"
   ]
  },
  {
   "cell_type": "markdown",
   "id": "1bfae8a1",
   "metadata": {},
   "source": [
    "4.From a Match item, how do you get the actual strings that match the pattern?"
   ]
  },
  {
   "cell_type": "raw",
   "id": "703dde13",
   "metadata": {},
   "source": [
    "You can get the actual strings that match the pattern from a Match object in Python by accessing its group method. The group method returns the string that matches the entire regular expression pattern.\n",
    "\n"
   ]
  },
  {
   "cell_type": "code",
   "execution_count": 1,
   "id": "9aba1d67",
   "metadata": {},
   "outputs": [
    {
     "name": "stdout",
     "output_type": "stream",
     "text": [
      "$99\n"
     ]
    }
   ],
   "source": [
    "import re\n",
    "text = \"the cost of the product is $99\"\n",
    "pattern = re.compile(r\"\\$\\d+\")\n",
    "match =re.search(pattern,text)\n",
    "if match:\n",
    "    print(match.group())"
   ]
  },
  {
   "cell_type": "markdown",
   "id": "6e9fd78b",
   "metadata": {},
   "source": [
    "5.In the regex which created from the r&#39;(\\d\\d\\d)-(\\d\\d\\d-\\d\\d\\d\\d)&#39;, what does group zero cover?\n",
    "Group 2? Group 1?"
   ]
  },
  {
   "cell_type": "raw",
   "id": "0ca75df1",
   "metadata": {},
   "source": [
    "In the regular expression (\\d\\d\\d)-(\\d\\d\\d-\\d\\d\\d\\d), group zero refers to the entire match, which is the string that matches the entire pattern. In this case, group zero would match the string 123-456-7890.\n",
    "\n",
    "Group 1 refers to the first set of parentheses in the pattern. In this case, group 1 would match the string 123.\n",
    "\n",
    "Group 2 refers to the second set of parentheses in the pattern. In this case, group 2 would match the string 456-7890.\n",
    "\n",
    "So, you can use the group() method to access the matching text for each group. For example, if you have a Match object match for this pattern, you could access group 1 with match.group(1), and group 2 with match.group(2)."
   ]
  },
  {
   "cell_type": "markdown",
   "id": "9c151ffd",
   "metadata": {},
   "source": [
    "6.In standard expression syntax, parentheses and intervals have distinct meanings. How can you tell\n",
    "a regex that you want it to fit real parentheses and periods?"
   ]
  },
  {
   "cell_type": "raw",
   "id": "ac5b9ea2",
   "metadata": {},
   "source": [
    "In regular expressions, certain characters such as parentheses and periods have special meaning and are used for defining patterns. If you want to match a literal parentheses or period character, you need to escape it with a backslash (\\).\n",
    "\n",
    "For example, to match the literal string (100), you would use the pattern \\(100\\). To match the literal string 100.00, you would use the pattern 100\\.00."
   ]
  },
  {
   "cell_type": "code",
   "execution_count": 5,
   "id": "a3fe369f",
   "metadata": {},
   "outputs": [
    {
     "name": "stdout",
     "output_type": "stream",
     "text": [
      "Cost: (100.)\n"
     ]
    }
   ],
   "source": [
    "import re\n",
    "\n",
    "text = \"The total cost is (100.) dollars, including tax.\"\n",
    "\n",
    "pattern = r\"\\(100\\.\\)\"\n",
    "\n",
    "match = re.search(pattern, text)\n",
    "\n",
    "if match:\n",
    "    cost = match.group()\n",
    "    print(\"Cost:\", cost)\n",
    "\n",
    "\n",
    "\n",
    "\n"
   ]
  },
  {
   "cell_type": "markdown",
   "id": "776d8eda",
   "metadata": {},
   "source": [
    "7.The findall() method returns a string list or a list of string tuples. What causes it to return one of\n",
    "the two options?"
   ]
  },
  {
   "cell_type": "raw",
   "id": "1dbd8ca3",
   "metadata": {},
   "source": [
    "The return type of the findall() method in Python's re module depends on the regular expression pattern being used.\n",
    "\n",
    "If the pattern contains one or more capturing groups (defined by parentheses), findall() returns a list of tuples, where each tuple contains the matching strings for each group.\n",
    "\n",
    "If the pattern does not contain any capturing groups, findall() returns a list of strings, where each string is a match for the entire pattern. "
   ]
  },
  {
   "cell_type": "code",
   "execution_count": 18,
   "id": "0b5448a9",
   "metadata": {},
   "outputs": [
    {
     "name": "stdout",
     "output_type": "stream",
     "text": [
      "Matches: [('Tom', '567-555-1212'), ('Jerry', '123-456-7890')]\n"
     ]
    }
   ],
   "source": [
    "import re\n",
    "\n",
    "text = \"Tom: 567-555-1212, Jerry: 123-456-7890\"\n",
    "\n",
    "pattern = r\"(\\w+): (\\d{3}-\\d{3}-\\d{4})\"\n",
    "\n",
    "matches = re.findall(pattern, text)\n",
    "\n",
    "print(\"Matches:\", matches)"
   ]
  },
  {
   "cell_type": "code",
   "execution_count": 12,
   "id": "71e78bfa",
   "metadata": {},
   "outputs": [
    {
     "name": "stdout",
     "output_type": "stream",
     "text": [
      "Matches: ['$99.99', '$199.99']\n"
     ]
    }
   ],
   "source": [
    "import re\n",
    "\n",
    "text = \"The price of the item is $99.99 and the total cost is $199.99\"\n",
    "\n",
    "pattern = r\"\\$\\d+\\.\\d+\"\n",
    "\n",
    "matches = re.findall(pattern, text)\n",
    "\n",
    "print(\"Matches:\", matches)"
   ]
  },
  {
   "cell_type": "markdown",
   "id": "c3cfbaf5",
   "metadata": {},
   "source": [
    "8. In standard expressions, what does the | character mean?"
   ]
  },
  {
   "cell_type": "raw",
   "id": "34101525",
   "metadata": {},
   "source": [
    "In standard regular expression syntax, the | character is called the alternation or \"or\" operator. It is used to match one or the other of two separate patterns. For example, the regular expression A|B matches either \"A\" or \"B\". This can be useful when you want to match several possible patterns in a single expression."
   ]
  },
  {
   "cell_type": "code",
   "execution_count": 19,
   "id": "c2381a01",
   "metadata": {},
   "outputs": [
    {
     "name": "stdout",
     "output_type": "stream",
     "text": [
      "['fsds', 'Ineuron']\n"
     ]
    }
   ],
   "source": [
    "import re\n",
    "text = \"I took fsds course at Ineuron\"\n",
    "pattern = \"fsds|Ineuron\"\n",
    "matches = re.findall(pattern,text)\n",
    "print(matches)"
   ]
  },
  {
   "cell_type": "markdown",
   "id": "344acf64",
   "metadata": {},
   "source": [
    "9. In regular expressions, what does the character stand for?"
   ]
  },
  {
   "cell_type": "markdown",
   "id": "20414470",
   "metadata": {},
   "source": [
    "In regular expressions, the . character is called a wildcard or dot operator. It matches any single character except a newline character."
   ]
  },
  {
   "cell_type": "code",
   "execution_count": 9,
   "id": "62b0ea2f",
   "metadata": {},
   "outputs": [
    {
     "name": "stdout",
     "output_type": "stream",
     "text": [
      "['fsds']\n"
     ]
    }
   ],
   "source": [
    "import re\n",
    "text = \"I took fsds course at Ineuron\"\n",
    "pattern = \"fs.s\"\n",
    "matches = re.findall(pattern,text)\n",
    "print(matches)"
   ]
  },
  {
   "cell_type": "markdown",
   "id": "2813e1ce",
   "metadata": {},
   "source": [
    "10.In regular expressions, what is the difference between the + and * characters?"
   ]
  },
  {
   "cell_type": "raw",
   "id": "9df16994",
   "metadata": {},
   "source": [
    "+: Matches one or more occurrences of the preceding pattern. For example, the pattern \\d+ matches one or more consecutive digits.\n",
    "\n",
    "*character : Matches zero or more occurrences of the preceding pattern. For example, the pattern \\d* matches zero or more consecutive digits."
   ]
  },
  {
   "cell_type": "code",
   "execution_count": 21,
   "id": "3d987be0",
   "metadata": {},
   "outputs": [
    {
     "name": "stdout",
     "output_type": "stream",
     "text": [
      "['123456789']\n"
     ]
    }
   ],
   "source": [
    "import re\n",
    "text = \"123456789\"\n",
    "pattern = \"\\d+\"\n",
    "matches = re.findall(pattern,text)\n",
    "print(matches)"
   ]
  },
  {
   "cell_type": "code",
   "execution_count": 11,
   "id": "69855653",
   "metadata": {},
   "outputs": [
    {
     "name": "stdout",
     "output_type": "stream",
     "text": [
      "['123456789', '']\n"
     ]
    }
   ],
   "source": [
    "import re\n",
    "text = \"123456789\"\n",
    "pattern = r\"\\d*\"\n",
    "matches = re.findall(pattern, text)\n",
    "print(matches)"
   ]
  },
  {
   "cell_type": "markdown",
   "id": "6cb80f1b",
   "metadata": {},
   "source": [
    "11.What is the difference between {4} and {4,5} in regular expression?"
   ]
  },
  {
   "cell_type": "raw",
   "id": "fa00e705",
   "metadata": {},
   "source": [
    "{n} specifies exactly n repetitions of the preceding character or group.\n",
    "{m,n} specifies between m and n (inclusive) repetitions of the preceding character or group."
   ]
  },
  {
   "cell_type": "code",
   "execution_count": 18,
   "id": "7d85b502",
   "metadata": {},
   "outputs": [
    {
     "name": "stdout",
     "output_type": "stream",
     "text": [
      "['1234', '5678', '9101']\n"
     ]
    }
   ],
   "source": [
    "import re\n",
    "text = \"12345678910112\"\n",
    "pattern = r\"\\d{4}\"\n",
    "matches = re.findall(pattern, text)\n",
    "print(matches)"
   ]
  },
  {
   "cell_type": "code",
   "execution_count": 17,
   "id": "8713146c",
   "metadata": {},
   "outputs": [
    {
     "name": "stdout",
     "output_type": "stream",
     "text": [
      "['12345', '67891', '0112']\n"
     ]
    }
   ],
   "source": [
    "import re\n",
    "text = \"12345678910112\"\n",
    "pattern = r\"\\d{4,5}\"\n",
    "matches = re.findall(pattern, text)\n",
    "print(matches)"
   ]
  },
  {
   "cell_type": "markdown",
   "id": "f3f2db47",
   "metadata": {},
   "source": [
    "12.What do you mean by the \\d, \\w, and \\s shorthand character classes signify in regular\n",
    "expressions?"
   ]
  },
  {
   "cell_type": "raw",
   "id": "28462b6b",
   "metadata": {},
   "source": [
    "\\d matches a digit character, that is, a character in the range of 0 to 9.\n",
    "\n",
    "\\w matches a word character, which includes any letter (upper- or lowercase), digit, or underscore character.\n",
    "\n",
    "\\s matches a whitespace character, including spaces, tabs, and newlines."
   ]
  },
  {
   "cell_type": "markdown",
   "id": "3e564e02",
   "metadata": {},
   "source": [
    "13.What do means by \\D, \\W, and \\S shorthand character classes signify in regular expressions?"
   ]
  },
  {
   "cell_type": "raw",
   "id": "8567de93",
   "metadata": {},
   "source": [
    "In regular expressions, the shorthand character classes \\d, \\w, and \\s are used to match digits, word characters, and whitespaces respectively. On the other hand, \\D, \\W, and \\S are their negations and match anything that is not a digit, word character, or whitespace respectively."
   ]
  },
  {
   "cell_type": "markdown",
   "id": "57f9c68e",
   "metadata": {},
   "source": [
    "14. What is the difference between .*? and .*?"
   ]
  },
  {
   "cell_type": "raw",
   "id": "23321cd4",
   "metadata": {},
   "source": [
    "In regular expressions, the difference between .* and .*? is that . matches zero or more occurrences of any character except a newline character, while .*? matches zero or more occurrences of any character except a newline character in a non-greedy manner.\n",
    "\n",
    "The difference between greedy and non-greedy matching is that greedy matching returns the longest possible match, while non-greedy matching returns the shortest possible match. So, in this case, .* would match the entire string, while .*? would match only up to the first occurrence of the end of the string or another character that terminates the match."
   ]
  },
  {
   "cell_type": "code",
   "execution_count": 35,
   "id": "fc62da06",
   "metadata": {},
   "outputs": [
    {
     "name": "stdout",
     "output_type": "stream",
     "text": [
      "Matches with .*: ['$99.99 and the total cost is $199.99']\n",
      "Matches with .*?: ['$', '$']\n"
     ]
    }
   ],
   "source": [
    "import re\n",
    "text = \"The price of the item is $99.99 and the total cost is $199.99\"\n",
    "\n",
    "pattern = r\"\\$.*\"\n",
    "matches = re.findall(pattern, text)\n",
    "print(\"Matches with .*:\", matches)\n",
    "\n",
    "pattern = r\"\\$.*?\"\n",
    "matches = re.findall(pattern, text)\n",
    "print(\"Matches with .*?:\", matches)"
   ]
  },
  {
   "cell_type": "markdown",
   "id": "bfc09594",
   "metadata": {},
   "source": [
    "15. What is the syntax for matching both numbers and lowercase letters with a character class?"
   ]
  },
  {
   "cell_type": "raw",
   "id": "ae967b2b",
   "metadata": {},
   "source": [
    "You can use a character class to match both numbers and lowercase letters in a regular expression. The syntax for a character class is [...], where the characters inside the square brackets define the set of characters that you want to match. To match numbers, you can use the range 0-9. To match lowercase letters, you can use the range a-z."
   ]
  },
  {
   "cell_type": "code",
   "execution_count": 42,
   "id": "18b7fd7a",
   "metadata": {},
   "outputs": [
    {
     "name": "stdout",
     "output_type": "stream",
     "text": [
      "Matches: ['abc123def456']\n"
     ]
    }
   ],
   "source": [
    "import re\n",
    "text = \"abc123def456\"\n",
    "\n",
    "pattern = r\"[a-z0-9]+\"\n",
    "matches = re.findall(pattern, text)\n",
    "print(\"Matches:\", matches)"
   ]
  },
  {
   "cell_type": "markdown",
   "id": "3cb674af",
   "metadata": {},
   "source": [
    "16. What is the procedure for making a normal expression in regax case insensitive?"
   ]
  },
  {
   "cell_type": "raw",
   "id": "34830ddc",
   "metadata": {},
   "source": [
    "To make a regular expression case-insensitive, you can use the re.IGNORECASE (or re.I for short) flag when compiling the regular expression pattern. This flag causes the regular expression engine to ignore the case of the characters when matching the pattern."
   ]
  },
  {
   "cell_type": "code",
   "execution_count": 43,
   "id": "39cac325",
   "metadata": {},
   "outputs": [
    {
     "name": "stdout",
     "output_type": "stream",
     "text": [
      "Hello\n"
     ]
    }
   ],
   "source": [
    "import re\n",
    "text = \"Hello World\"\n",
    "pattern = re.compile(r\"hello\",re.IGNORECASE)\n",
    "match = re.search(pattern,text)\n",
    "if match:\n",
    "    print(match.group())"
   ]
  },
  {
   "cell_type": "markdown",
   "id": "c5b915c7",
   "metadata": {},
   "source": [
    "17. What does the . character normally match? What does it match if re.DOTALL is passed as 2nd\n",
    "argument in re.compile()?"
   ]
  },
  {
   "cell_type": "raw",
   "id": "68fc2cde",
   "metadata": {},
   "source": [
    "The . character in a regular expression matches any character except a newline character \\n.\n",
    "\n",
    "However, if the re.DOTALL flag is passed as the second argument to re.compile, the . character will match any character, including the newline character. The re.DOTALL flag is used to change the behavior of the . character so that it matches everything, including newlines."
   ]
  },
  {
   "cell_type": "code",
   "execution_count": 19,
   "id": "7e839f17",
   "metadata": {},
   "outputs": [
    {
     "name": "stdout",
     "output_type": "stream",
     "text": [
      "Hello\n",
      "World\n"
     ]
    }
   ],
   "source": [
    "import re\n",
    "text = \"Hello\\nWorld\"\n",
    "pattern = re.compile(r\".+\", re.DOTALL)\n",
    "match = pattern.search(text)\n",
    "if match:\n",
    "    print(match.group())\n"
   ]
  },
  {
   "cell_type": "code",
   "execution_count": 20,
   "id": "aaaaccce",
   "metadata": {},
   "outputs": [
    {
     "name": "stdout",
     "output_type": "stream",
     "text": [
      "Hello\n"
     ]
    }
   ],
   "source": [
    "import re\n",
    "text = \"Hello\\nWorld\"\n",
    "pattern = re.compile(r\".+\")\n",
    "match = pattern.search(text)\n",
    "if match:\n",
    "    print(match.group())\n"
   ]
  },
  {
   "cell_type": "markdown",
   "id": "b7f4068f",
   "metadata": {},
   "source": [
    "18. If numReg = re.compile(r&#39;\\d+&#39;), what will numRegex.sub(&#39;X&#39;, &#39;11 drummers, 10 pipers, five rings, 4\n",
    "hen&#39;) return?"
   ]
  },
  {
   "cell_type": "code",
   "execution_count": 51,
   "id": "939aec08",
   "metadata": {},
   "outputs": [
    {
     "name": "stdout",
     "output_type": "stream",
     "text": [
      "old text is 11 drummers, 10 pipers, five rings, 4 hen\n",
      "new text is X drummers, X pipers, five rings, X hen\n"
     ]
    }
   ],
   "source": [
    "import re\n",
    "text = '11 drummers, 10 pipers, five rings, 4 hen'\n",
    "numReg = re.compile(r'\\d+')\n",
    "newText = numReg.sub('X', text)\n",
    "print(\"old text is\",text)\n",
    "print(\"new text is\",newText)\n"
   ]
  },
  {
   "cell_type": "markdown",
   "id": "ffca88ef",
   "metadata": {},
   "source": [
    "19.What does passing re.VERBOSE as the 2nd argument to re.compile() allow to do?"
   ]
  },
  {
   "cell_type": "raw",
   "id": "91a7a994",
   "metadata": {},
   "source": [
    "Passing re.VERBOSE as the second argument to re.compile allows you to write regular expressions in a more readable and structured format.\n",
    "\n",
    "When the re.VERBOSE flag is used, whitespace and comments can be added to the regular expression pattern to make it more readable and easier to understand. The whitespace and comments are ignored when the pattern is compiled and matched against text.\n"
   ]
  },
  {
   "cell_type": "markdown",
   "id": "10dd9af2",
   "metadata": {},
   "source": [
    "20.How would you write a regex that match a number with comma for every three digits? It must\n",
    "match the given following:\n",
    "&#39;42&#39;\n",
    "&#39;1,234&#39;\n",
    "&#39;6,368,745&#39;\n",
    "\n",
    "but not the following:\n",
    "&#39;12,34,567&#39; (which has only two digits between the commas)\n",
    "&#39;1234&#39; (which lacks commas)"
   ]
  },
  {
   "cell_type": "code",
   "execution_count": 22,
   "id": "614708f8",
   "metadata": {},
   "outputs": [
    {
     "name": "stdout",
     "output_type": "stream",
     "text": [
      "Match found: 42\n",
      "Match found: 1,234\n",
      "Match found: 6,368,745\n",
      "Match not found: 12,34,567\n",
      "Match not found: 1234\n"
     ]
    }
   ],
   "source": [
    "import re\n",
    "numbers = ['42','1,234','6,368,745', '12,34,567','1234' ]\n",
    "pattern = re.compile(r'^\\d{1,3}(,\\d{3})*$')\n",
    "\n",
    "for number in numbers:\n",
    "    match = pattern.search(number)\n",
    "    if match:\n",
    "        print(\"Match found:\", number)\n",
    "    else:\n",
    "        print(\"Match not found:\", number)\n"
   ]
  },
  {
   "cell_type": "markdown",
   "id": "88b1f0f0",
   "metadata": {},
   "source": [
    "21. How would you write a regex that matches the full name of someone whose last name is\n",
    "Watanabe? You can assume that the first name that comes before it will always be one word that\n",
    "begins with a capital letter. The regex must match the following:\n",
    "&#39;Haruto Watanabe&#39;\n",
    "&#39;Alice Watanabe&#39;\n",
    "&#39;RoboCop Watanabe&#39;\n",
    "but not the following:\n",
    "&#39;haruto Watanabe&#39; (where the first name is not capitalized)\n",
    "&#39;Mr. Watanabe&#39; (where the preceding word has a nonletter character)\n",
    "&#39;Watanabe&#39; (which has no first name)\n",
    "&#39;Haruto watanabe&#39; (where Watanabe is not capitalized)"
   ]
  },
  {
   "cell_type": "code",
   "execution_count": 66,
   "id": "6b1b4f01",
   "metadata": {},
   "outputs": [
    {
     "name": "stdout",
     "output_type": "stream",
     "text": [
      "Match found: Haruto Watanabe\n",
      "Match found: Alice Watanabe\n",
      "Match found: RoboCop Watanabe\n",
      "Match not found: haruto Watanabe\n",
      "Match not found: Mr. Watanabe\n",
      "Match not found: Watanabe\n",
      "Match not found: Haruto watanabe\n"
     ]
    }
   ],
   "source": [
    "import re\n",
    "text = ['Haruto Watanabe','Alice Watanabe','RoboCop Watanabe','haruto Watanabe','Mr. Watanabe', 'Watanabe', 'Haruto watanabe']\n",
    "pattern = re.compile(r'^[A-Z][a-zA-Z]+ Watanabe$')\n",
    "for text in text:\n",
    "    match = pattern.search(text)\n",
    "    if match:\n",
    "        print(\"Match found:\", text)\n",
    "    else:\n",
    "        print(\"Match not found:\", text)\n"
   ]
  },
  {
   "cell_type": "markdown",
   "id": "fc79948f",
   "metadata": {},
   "source": [
    "22. How would you write a regex that matches a sentence where the first word is either Alice, Bob,\n",
    "or Carol; the second word is either eats, pets, or throws; the third word is apples, cats, or baseballs;\n",
    "and the sentence ends with a period? This regex should be case-insensitive. It must match the\n",
    "following:\n",
    "&#39;Alice eats apples.&#39;\n",
    "&#39;Bob pets cats.&#39;\n",
    "&#39;Carol throws baseballs.&#39;\n",
    "&#39;Alice throws Apples.&#39;\n",
    "&#39;BOB EATS CATS.&#39;\n",
    "but not the following:\n",
    "&#39;RoboCop eats apples.&#39;\n",
    "&#39;ALICE THROWS FOOTBALLS.&#39;\n",
    "&#39;Carol eats 7 cats.&#39;"
   ]
  },
  {
   "cell_type": "code",
   "execution_count": 80,
   "id": "8bc67515",
   "metadata": {},
   "outputs": [
    {
     "name": "stdout",
     "output_type": "stream",
     "text": [
      "Match found: Alice eats apples.\n",
      "Match found: Bob pets cats.\n",
      "Match found: Carol throws baseballs.\n",
      "Match found: Alice throws Apples.\n",
      "Match found: BOB EATS CATS.\n",
      "Match not found: RoboCop eats apples.\n",
      "Match not found: ALICE THROWS FOOTBALLS.\n",
      "Match not found: Carol eats 7 cats.\n"
     ]
    }
   ],
   "source": [
    "import re\n",
    "text =[ 'Alice eats apples.','Bob pets cats.','Carol throws baseballs.','Alice throws Apples.','BOB EATS CATS.','RoboCop eats apples.','ALICE THROWS FOOTBALLS.','Carol eats 7 cats.']\n",
    "pattern = re.compile(r'^(Alice|Bob|Carol)\\s(eats|pets|throws)\\s(apples|cats|baseballs)\\.$', re.IGNORECASE)\n",
    "for text in text:\n",
    "    match = pattern.search(text)\n",
    "    if match:\n",
    "        print(\"Match found:\", text)\n",
    "    else:\n",
    "        print(\"Match not found:\", text)"
   ]
  },
  {
   "cell_type": "code",
   "execution_count": null,
   "id": "3f5c6872",
   "metadata": {},
   "outputs": [],
   "source": []
  }
 ],
 "metadata": {
  "kernelspec": {
   "display_name": "Python 3 (ipykernel)",
   "language": "python",
   "name": "python3"
  },
  "language_info": {
   "codemirror_mode": {
    "name": "ipython",
    "version": 3
   },
   "file_extension": ".py",
   "mimetype": "text/x-python",
   "name": "python",
   "nbconvert_exporter": "python",
   "pygments_lexer": "ipython3",
   "version": "3.9.13"
  }
 },
 "nbformat": 4,
 "nbformat_minor": 5
}
