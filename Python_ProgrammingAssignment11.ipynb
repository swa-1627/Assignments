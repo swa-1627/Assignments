{
 "cells": [
  {
   "cell_type": "markdown",
   "id": "46a08cdc",
   "metadata": {},
   "source": [
    "1. Write a Python program to find words which are greater than given length k?"
   ]
  },
  {
   "cell_type": "code",
   "execution_count": 25,
   "id": "504361f6",
   "metadata": {},
   "outputs": [
    {
     "name": "stdout",
     "output_type": "stream",
     "text": [
      "Enter minimum word length: 5\n",
      "Enter words separated by spaces: ineuron,fsds,data,data science\n",
      "ineuron\n",
      "data science\n"
     ]
    }
   ],
   "source": [
    "min_length = int(input(\"Enter minimum word length: \"))\n",
    "word_list = input(\"Enter words separated by spaces: \").split(\",\")\n",
    "for word in word_list:\n",
    "    if len(word) >= min_length:\n",
    "        print(word)\n",
    "    "
   ]
  },
  {
   "cell_type": "markdown",
   "id": "c337e03c",
   "metadata": {},
   "source": [
    "2. Write a Python program for removing i-th character from a string?"
   ]
  },
  {
   "cell_type": "code",
   "execution_count": 3,
   "id": "ca7771f5",
   "metadata": {},
   "outputs": [
    {
     "name": "stdout",
     "output_type": "stream",
     "text": [
      "enter the string:ineuronfsds\n",
      " enter the index no:5\n",
      "ineurnfsds\n"
     ]
    }
   ],
   "source": [
    "s = input(\"enter the string:\")\n",
    "i = int(input(\" enter the index no:\"))\n",
    "if i<len(s):\n",
    "    print(s[:i]+s[i+1:])\n",
    "else:\n",
    "    print(\"index no: should be less than length of string\")"
   ]
  },
  {
   "cell_type": "markdown",
   "id": "eee8aac5",
   "metadata": {},
   "source": [
    "3.Write a Python program to split and join a string?"
   ]
  },
  {
   "cell_type": "code",
   "execution_count": 5,
   "id": "decd46da",
   "metadata": {},
   "outputs": [
    {
     "name": "stdout",
     "output_type": "stream",
     "text": [
      "enter words seperated by spaceineuron fsds datascience\n",
      "['ineuron', 'fsds', 'datascience']\n",
      "ineuron fsds datascience\n"
     ]
    }
   ],
   "source": [
    "s = input(\"enter words seperated by space\")\n",
    "words = s.split()\n",
    "print(words)\n",
    "result = \" \".join(words)\n",
    "print(result)\n",
    " "
   ]
  },
  {
   "cell_type": "markdown",
   "id": "3f7de1b6",
   "metadata": {},
   "source": [
    "4.Write a Python to check if a given string is binary string or not?"
   ]
  },
  {
   "cell_type": "code",
   "execution_count": 10,
   "id": "fc5d2bad",
   "metadata": {},
   "outputs": [
    {
     "name": "stdout",
     "output_type": "stream",
     "text": [
      "enter a string0110\n",
      "string is binary\n"
     ]
    }
   ],
   "source": [
    "s = input(\"enter a string\")\n",
    "Flag = True\n",
    "for i in s:\n",
    "    if i!=\"0\" and i!=\"1\":\n",
    "        Flag= False\n",
    "        break\n",
    "if Flag == False:\n",
    "    print(\"string is not binary\")\n",
    "else:\n",
    "    print(\"string is binary\")"
   ]
  },
  {
   "cell_type": "code",
   "execution_count": 14,
   "id": "9e0e21b3",
   "metadata": {},
   "outputs": [
    {
     "name": "stdout",
     "output_type": "stream",
     "text": [
      "Enter a string: ineuron\n",
      "The string is not a binary string\n"
     ]
    }
   ],
   "source": [
    "string = input(\"Enter a string: \")\n",
    "if all(c in '01' for c in string):\n",
    "    print(\"The string is a binary string\")\n",
    "else:\n",
    "    print(\"The string is not a binary string\")"
   ]
  },
  {
   "cell_type": "markdown",
   "id": "9369a10d",
   "metadata": {},
   "source": [
    "5. Write a Python program to find uncommon words from two Strings?"
   ]
  },
  {
   "cell_type": "code",
   "execution_count": 17,
   "id": "b1180356",
   "metadata": {},
   "outputs": [
    {
     "name": "stdout",
     "output_type": "stream",
     "text": [
      "enter words seperated by space: i enrolled in full stack data science course\n",
      "enter words seperated by space: the course is offered by Ineuron\n",
      "i\n",
      "enrolled\n",
      "in\n",
      "full\n",
      "stack\n",
      "data\n",
      "science\n",
      "the\n",
      "is\n",
      "offered\n",
      "by\n",
      "Ineuron\n"
     ]
    }
   ],
   "source": [
    "s1 = input(\"enter words seperated by space: \").split()\n",
    "s2 = input(\"enter words seperated by space: \").split()\n",
    "if s1!=s2:\n",
    "    for i in s1:\n",
    "        if i not in s2:\n",
    "            print(i)\n",
    "    for i in s2:\n",
    "        if i not in s1:\n",
    "            print(i)\n",
    "else:\n",
    "    print(\"two strings are same\")"
   ]
  },
  {
   "cell_type": "code",
   "execution_count": 1,
   "id": "9f360dc2",
   "metadata": {},
   "outputs": [
    {
     "name": "stdout",
     "output_type": "stream",
     "text": [
      "enter words seperated by space: i enrolled in full stack data science course\n",
      "enter words seperated by space: the course is offered by Ineuron\n",
      "the uncommon words are: \n",
      "data\n",
      "enrolled\n",
      "science\n",
      "by\n",
      "in\n",
      "is\n",
      "full\n",
      "i\n",
      "stack\n",
      "offered\n",
      "Ineuron\n",
      "the\n"
     ]
    }
   ],
   "source": [
    "s1 = input(\"enter words seperated by space: \").split()\n",
    "s2 = input(\"enter words seperated by space: \").split()\n",
    "uncommon_words = set(s1)^set(s2)\n",
    "print(\"the uncommon words are: \")\n",
    "for i in uncommon_words:\n",
    "    print(i)"
   ]
  },
  {
   "cell_type": "markdown",
   "id": "8f4e4ae5",
   "metadata": {},
   "source": [
    "6.Write a Python to find all duplicate characters in string?"
   ]
  },
  {
   "cell_type": "code",
   "execution_count": 6,
   "id": "3e2620b6",
   "metadata": {},
   "outputs": [
    {
     "name": "stdout",
     "output_type": "stream",
     "text": [
      "enter a stringhello world\n",
      "the duplicate characters are:  ['l', 'o']\n"
     ]
    }
   ],
   "source": [
    "s = input(\"enter a string\")\n",
    "duplicate_char =[]\n",
    "for i in s:\n",
    "    if s.count(i)>1 and i not in duplicate_char:\n",
    "       duplicate_char.append(i)  \n",
    "\n",
    "if duplicate_char:\n",
    "    print(\"the duplicate characters are: \",duplicate_char)\n",
    "else:\n",
    "    prnt(\"no dupliactes\")\n"
   ]
  },
  {
   "cell_type": "markdown",
   "id": "2e0607c6",
   "metadata": {},
   "source": [
    "7. Write a Python Program to check if a string contains any special character?"
   ]
  },
  {
   "cell_type": "code",
   "execution_count": 1,
   "id": "5298166a",
   "metadata": {},
   "outputs": [
    {
     "name": "stdout",
     "output_type": "stream",
     "text": [
      "enter a string: Hello@World*#\n",
      "@ * # "
     ]
    }
   ],
   "source": [
    "s = input(\"enter a string: \")\n",
    "Flag = True \n",
    "for i in s:\n",
    "    if not i.isalnum() and not i.isspace():\n",
    "        Flag = False\n",
    "        print(i, end=\" \")\n",
    "if Flag:\n",
    "    print(\"no special characters found\")"
   ]
  },
  {
   "cell_type": "code",
   "execution_count": 3,
   "id": "b130d05f",
   "metadata": {},
   "outputs": [
    {
     "name": "stdout",
     "output_type": "stream",
     "text": [
      "enter a string: Hello@World*#\n",
      "Special characters present\n"
     ]
    }
   ],
   "source": [
    "import re\n",
    "s = input(\"enter a string: \")\n",
    "pattern = re.compile('[@_!#$%^&*()<>?/\\|}{~:]')\n",
    "match = pattern.search(s)\n",
    "if match:\n",
    "    print(\"Special characters present\")\n",
    "else:\n",
    "    print(\"special characters not present\")"
   ]
  },
  {
   "cell_type": "code",
   "execution_count": null,
   "id": "0e55abb4",
   "metadata": {},
   "outputs": [],
   "source": []
  }
 ],
 "metadata": {
  "kernelspec": {
   "display_name": "Python 3 (ipykernel)",
   "language": "python",
   "name": "python3"
  },
  "language_info": {
   "codemirror_mode": {
    "name": "ipython",
    "version": 3
   },
   "file_extension": ".py",
   "mimetype": "text/x-python",
   "name": "python",
   "nbconvert_exporter": "python",
   "pygments_lexer": "ipython3",
   "version": "3.9.13"
  }
 },
 "nbformat": 4,
 "nbformat_minor": 5
}
