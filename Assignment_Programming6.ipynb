{
  "nbformat": 4,
  "nbformat_minor": 0,
  "metadata": {
    "colab": {
      "provenance": []
    },
    "kernelspec": {
      "name": "python3",
      "display_name": "Python 3"
    },
    "language_info": {
      "name": "python"
    }
  },
  "cells": [
    {
      "cell_type": "markdown",
      "source": [
        "####1.Write a Python Program to Display Fibonacci Sequence Using Recursion?"
      ],
      "metadata": {
        "id": "aTU6YLiTtvRS"
      }
    },
    {
      "cell_type": "code",
      "source": [
        "def fibo_recus(n):\n",
        "  if n==0:\n",
        "      return 0\n",
        "  elif n==1:\n",
        "      return 1\n",
        "  else:\n",
        "      return (fibo_recus(n-1)+fibo_recus(n-2))\n",
        "\n",
        "nth_term = int(input (\"enter the number of terms: \"))\n",
        "\n",
        "for i in range(nth_term):\n",
        "    print(fibo_recus(i),end=\" \")"
      ],
      "metadata": {
        "colab": {
          "base_uri": "https://localhost:8080/"
        },
        "id": "2DQEkX14qKCJ",
        "outputId": "bddb5bf1-5b3f-442e-dcb0-fbde63e5151e"
      },
      "execution_count": 16,
      "outputs": [
        {
          "output_type": "stream",
          "name": "stdout",
          "text": [
            "enter the number of terms: 5\n",
            "0 1 1 2 3 "
          ]
        }
      ]
    },
    {
      "cell_type": "markdown",
      "source": [
        "####2.Write a Python Program to Find Factorial of Number Using Recursion?\n"
      ],
      "metadata": {
        "id": "MmI0aNa-t7NQ"
      }
    },
    {
      "cell_type": "code",
      "source": [
        "def fact(n):\n",
        "  if n ==0:\n",
        "    return 1\n",
        "  else:\n",
        "    return n*fact(n-1)\n",
        "\n",
        "n = int(input(\"enter the no: \"))\n",
        "result = fact(n)\n",
        "print(result)"
      ],
      "metadata": {
        "colab": {
          "base_uri": "https://localhost:8080/"
        },
        "id": "u0kcsEKUrDWt",
        "outputId": "97cebfbe-096c-4093-9a0f-afce3dde9632"
      },
      "execution_count": 17,
      "outputs": [
        {
          "output_type": "stream",
          "name": "stdout",
          "text": [
            "enter the no: 5\n",
            "120\n"
          ]
        }
      ]
    },
    {
      "cell_type": "markdown",
      "source": [
        "####3. Write a Python Program to calculate your Body Mass Index?"
      ],
      "metadata": {
        "id": "LQYciCJtulHT"
      }
    },
    {
      "cell_type": "code",
      "source": [
        "def bmi_func(a,b):\n",
        "  return (a/((b/100)**2))\n",
        "\n",
        "weight = float(input(\"enter the weight in kilograms: \"))\n",
        "height = float(input(\"enter the height in cm: \"))\n",
        "print(\"your BMI is\",bmi_func(weight,height))"
      ],
      "metadata": {
        "colab": {
          "base_uri": "https://localhost:8080/"
        },
        "id": "eRqZFNcPuZRd",
        "outputId": "cd929350-fa12-499d-9779-2e0e4e288f41"
      },
      "execution_count": 28,
      "outputs": [
        {
          "output_type": "stream",
          "name": "stdout",
          "text": [
            "enter the weight in kilograms: 61\n",
            "enter the height in cm: 160\n",
            "your BMI is 23.828124999999996\n"
          ]
        }
      ]
    },
    {
      "cell_type": "markdown",
      "source": [
        "####4. Write a Python Program to calculate the natural logarithm of any number?"
      ],
      "metadata": {
        "id": "-AcFaArwxM9q"
      }
    },
    {
      "cell_type": "code",
      "source": [
        "import math\n",
        "a = int(input(\"input the number: \"))\n",
        "print(\"The natural log of\",a, \"is\",math.log(a))\n"
      ],
      "metadata": {
        "colab": {
          "base_uri": "https://localhost:8080/"
        },
        "id": "ss9Of6d5vkDt",
        "outputId": "5f15824b-089a-4b8c-9e2e-3943f8cfeda0"
      },
      "execution_count": 34,
      "outputs": [
        {
          "output_type": "stream",
          "name": "stdout",
          "text": [
            "input the number: 15\n",
            "The natural log of 15 is 2.70805020110221\n"
          ]
        }
      ]
    },
    {
      "cell_type": "markdown",
      "source": [
        "####5. Write a Python Program for cube sum of first n natural numbers?"
      ],
      "metadata": {
        "id": "H-1yvBFRzPeJ"
      }
    },
    {
      "cell_type": "code",
      "source": [
        "sum = 0\n",
        "n = int(input(\"enter the limit: \"))\n",
        "for i in range(1,n+1):\n",
        "    sum = sum + i**3\n",
        "print(\"The cube sum of first\",n,\"natural numbers is\",sum)"
      ],
      "metadata": {
        "colab": {
          "base_uri": "https://localhost:8080/"
        },
        "id": "B6ioSEOfyqWk",
        "outputId": "005c7d44-e2c0-42d1-eb63-0f26137a0cbd"
      },
      "execution_count": 40,
      "outputs": [
        {
          "output_type": "stream",
          "name": "stdout",
          "text": [
            "enter the limit: 5\n",
            "The cube sum of first 5 natural numbers is 225\n"
          ]
        }
      ]
    },
    {
      "cell_type": "code",
      "source": [],
      "metadata": {
        "id": "_K4ZrF4qz4eI"
      },
      "execution_count": null,
      "outputs": []
    }
  ]
}