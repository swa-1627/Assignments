{
  "cells": [
    {
      "cell_type": "markdown",
      "metadata": {
        "id": "OrWzzizgAeVb"
      },
      "source": [
        " 1. Write a Python program to print \"Hello Python\"?"
      ]
    },
    {
      "cell_type": "code",
      "execution_count": 1,
      "metadata": {
        "colab": {
          "base_uri": "https://localhost:8080/"
        },
        "id": "6qBAFHj9AsEN",
        "outputId": "0700e547-cfd5-4a35-a5e4-195a156eedfc"
      },
      "outputs": [
        {
          "name": "stdout",
          "output_type": "stream",
          "text": [
            "Hello Python\n"
          ]
        }
      ],
      "source": [
        "print(\"Hello Python\")"
      ]
    },
    {
      "cell_type": "markdown",
      "metadata": {
        "id": "98MTwcNHA1_Z"
      },
      "source": [
        "2. Write a Python program to do arithmetical operations addition and division.?"
      ]
    },
    {
      "cell_type": "code",
      "execution_count": 2,
      "metadata": {
        "colab": {
          "base_uri": "https://localhost:8080/"
        },
        "id": "XAgmccg-A8e_",
        "outputId": "813aed3d-e7b9-4f09-ab1c-b46285ca1e48"
      },
      "outputs": [
        {
          "name": "stdout",
          "output_type": "stream",
          "text": [
            "enter 1st no: 10\n",
            "enter 2nd no: 2\n",
            "the sum of a and b is 12\n",
            "10/2 is equal to 5.0\n"
          ]
        }
      ],
      "source": [
        "a = int(input(\"enter 1st no: \"))\n",
        "b = int(input(\"enter 2nd no: \"))\n",
        "print(f\"the sum of a and b is {a+b}\")\n",
        "print(f\"{a}/{b} is equal to {a/b}\")"
      ]
    },
    {
      "cell_type": "markdown",
      "metadata": {
        "id": "8_h9X2fyBZxL"
      },
      "source": [
        "3. Write a Python program to find the area of a triangle?\n"
      ]
    },
    {
      "cell_type": "code",
      "execution_count": 4,
      "metadata": {
        "colab": {
          "base_uri": "https://localhost:8080/"
        },
        "id": "AygVdlFZBbyC",
        "outputId": "087e0ae4-558d-4701-bbdf-78b389407e7d"
      },
      "outputs": [
        {
          "name": "stdout",
          "output_type": "stream",
          "text": [
            "enter the base of triangle: 15\n",
            "enter the height of the triangle: 20\n",
            "area of triangle is 150.0\n"
          ]
        }
      ],
      "source": [
        "b = int(input(\"enter the base of triangle: \"))\n",
        "h = int(input(\"enter the height of the triangle: \"))\n",
        "print(f\"area of triangle is {.5*b*h}\")\n"
      ]
    },
    {
      "cell_type": "markdown",
      "metadata": {
        "id": "7zMVvGKwCCIT"
      },
      "source": [
        "4.Write a Python program to swap two variables?"
      ]
    },
    {
      "cell_type": "code",
      "execution_count": 8,
      "metadata": {
        "colab": {
          "base_uri": "https://localhost:8080/"
        },
        "id": "8i1foQ0bAlqc",
        "outputId": "6afeae24-bb3f-42fe-a0a7-ba8244c0b37b"
      },
      "outputs": [
        {
          "name": "stdout",
          "output_type": "stream",
          "text": [
            "the old value of a is 5 and old value of b is 6\n",
            "the new value of a is 6 and new value of b is 5\n"
          ]
        }
      ],
      "source": [
        "a = 5\n",
        "b = 6\n",
        "print(f\"the old value of a is {a} and old value of b is {b}\")\n",
        "a,b = b,a\n",
        "print(f\"the new value of a is {a} and new value of b is {b}\")"
      ]
    },
    {
      "cell_type": "markdown",
      "metadata": {
        "id": "ynD8JkY-Ccd-"
      },
      "source": [
        "5. Write a Python program to generate a random number?"
      ]
    },
    {
      "cell_type": "code",
      "execution_count": 12,
      "metadata": {
        "colab": {
          "base_uri": "https://localhost:8080/"
        },
        "id": "gzwHpiwqAVv_",
        "outputId": "c520931a-a8fe-447d-96b8-1f911cf2d072"
      },
      "outputs": [
        {
          "name": "stdout",
          "output_type": "stream",
          "text": [
            "0.12077447265033703\n"
          ]
        }
      ],
      "source": [
        "import random\n",
        "n = random.random()\n",
        "print(n)"
      ]
    }
  ],
  "metadata": {
    "colab": {
      "provenance": []
    },
    "kernelspec": {
      "display_name": "Python 3",
      "name": "python3"
    },
    "language_info": {
      "name": "python"
    }
  },
  "nbformat": 4,
  "nbformat_minor": 0
}
