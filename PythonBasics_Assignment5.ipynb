{
 "cells": [
  {
   "cell_type": "markdown",
   "id": "097f10bb",
   "metadata": {},
   "source": [
    "1.What does an empty dictionary&#39;s code look like?"
   ]
  },
  {
   "cell_type": "code",
   "execution_count": 5,
   "id": "6e99af1b",
   "metadata": {},
   "outputs": [
    {
     "data": {
      "text/plain": [
       "dict"
      ]
     },
     "execution_count": 5,
     "metadata": {},
     "output_type": "execute_result"
    }
   ],
   "source": [
    "d = {}\n",
    "type(d)"
   ]
  },
  {
   "cell_type": "markdown",
   "id": "e7a5b5a2",
   "metadata": {},
   "source": [
    "2.What is the value of a dictionary value with the key &#39;foo&#39; and the value 42?"
   ]
  },
  {
   "cell_type": "code",
   "execution_count": 4,
   "id": "dace0833",
   "metadata": {},
   "outputs": [
    {
     "data": {
      "text/plain": [
       "dict_values([42])"
      ]
     },
     "execution_count": 4,
     "metadata": {},
     "output_type": "execute_result"
    }
   ],
   "source": [
    "d[\"foo\"]=42\n",
    "d.values()"
   ]
  },
  {
   "cell_type": "markdown",
   "id": "787aaa5d",
   "metadata": {},
   "source": [
    "3.What is the most significant distinction between a dictionary and a list?"
   ]
  },
  {
   "cell_type": "markdown",
   "id": "5828f351",
   "metadata": {},
   "source": [
    "In a dictionary, each element is represented as a key-value pair. The keys are unique, and are used to look up the corresponding values. Dictionaries are unordered, meaning that the elements are not stored in a specific order, and their order may change when elements are added or removed.\n",
    "\n",
    "In a list, each element is stored in a specific position, and the elements can be accessed by their index. Lists are ordered, meaning that the elements are stored in the order they were added.\n",
    "\n",
    "To access the elements in the dictionary, we use the keys, while to access the elements in the list, we use the indices."
   ]
  },
  {
   "cell_type": "markdown",
   "id": "c2c23c71",
   "metadata": {},
   "source": [
    "4.What happens if you try to access spam[&#39;foo&#39;] if spam is {&#39;bar&#39;: 100}?"
   ]
  },
  {
   "cell_type": "code",
   "execution_count": 7,
   "id": "1d7fb679",
   "metadata": {},
   "outputs": [
    {
     "ename": "KeyError",
     "evalue": "'foo'",
     "output_type": "error",
     "traceback": [
      "\u001b[1;31m---------------------------------------------------------------------------\u001b[0m",
      "\u001b[1;31mKeyError\u001b[0m                                  Traceback (most recent call last)",
      "\u001b[1;32m~\\AppData\\Local\\Temp\\ipykernel_7136\\2475990057.py\u001b[0m in \u001b[0;36m<module>\u001b[1;34m\u001b[0m\n\u001b[0;32m      1\u001b[0m \u001b[0mspam\u001b[0m \u001b[1;33m=\u001b[0m\u001b[1;33m{\u001b[0m\u001b[1;34m\"bar\"\u001b[0m\u001b[1;33m:\u001b[0m\u001b[1;36m100\u001b[0m\u001b[1;33m}\u001b[0m\u001b[1;33m\u001b[0m\u001b[1;33m\u001b[0m\u001b[0m\n\u001b[1;32m----> 2\u001b[1;33m \u001b[0mspam\u001b[0m\u001b[1;33m[\u001b[0m\u001b[1;34m'foo'\u001b[0m\u001b[1;33m]\u001b[0m\u001b[1;33m\u001b[0m\u001b[1;33m\u001b[0m\u001b[0m\n\u001b[0m\u001b[0;32m      3\u001b[0m \u001b[1;31m# we get a keyError as there is no su such key as 'foo'\u001b[0m\u001b[1;33m\u001b[0m\u001b[1;33m\u001b[0m\u001b[0m\n",
      "\u001b[1;31mKeyError\u001b[0m: 'foo'"
     ]
    }
   ],
   "source": [
    "spam ={\"bar\":100}\n",
    "spam['foo']\n",
    "# we get a keyError as there is no su such key as 'foo'"
   ]
  },
  {
   "cell_type": "markdown",
   "id": "30bc32bd",
   "metadata": {},
   "source": [
    "5.If a dictionary is stored in spam, what is the difference between the expressions &#39;cat&#39; in spam and\n",
    "&#39;cat&#39; in spam.keys()?"
   ]
  },
  {
   "cell_type": "code",
   "execution_count": 8,
   "id": "09b58ced",
   "metadata": {},
   "outputs": [
    {
     "data": {
      "text/plain": [
       "True"
      ]
     },
     "execution_count": 8,
     "metadata": {},
     "output_type": "execute_result"
    }
   ],
   "source": [
    "spam = {'cat': 'meow', 'dog': 'bark', 'bird': 'chirp'}\n",
    "'cat' in spam"
   ]
  },
  {
   "cell_type": "code",
   "execution_count": 9,
   "id": "952d36f2",
   "metadata": {},
   "outputs": [
    {
     "data": {
      "text/plain": [
       "True"
      ]
     },
     "execution_count": 9,
     "metadata": {},
     "output_type": "execute_result"
    }
   ],
   "source": [
    "'cat' in spam.keys()"
   ]
  },
  {
   "cell_type": "markdown",
   "id": "ee70ed5e",
   "metadata": {},
   "source": [
    "In this example, the expression 'cat' in spam returns True because the string 'cat' is one of the values stored in the dictionary spam. The expression 'cat' in spam.keys() also returns True because the string 'cat' is one of the keys stored in the dictionary spam. "
   ]
  },
  {
   "cell_type": "markdown",
   "id": "f3fc93b8",
   "metadata": {},
   "source": [
    "6. If a dictionary is stored in spam, what is the difference between the expressions &#39;cat&#39; in spam and\n",
    "&#39;cat&#39; in spam.values()?"
   ]
  },
  {
   "cell_type": "code",
   "execution_count": 10,
   "id": "f9abb840",
   "metadata": {},
   "outputs": [
    {
     "name": "stdout",
     "output_type": "stream",
     "text": [
      "True\n",
      "False\n"
     ]
    }
   ],
   "source": [
    "spam = {'cat': 'meow', 'dog': 'bark', 'bird': 'chirp'}\n",
    "print('cat' in spam )#returns true as 'cat' is a key\n",
    "print('cat' in spam.values())#returns false as the dictionary does not contain value 'cat'"
   ]
  },
  {
   "cell_type": "markdown",
   "id": "ae41adfe",
   "metadata": {},
   "source": [
    "7. What is a shortcut for the following code?\n",
    "if &#39;color&#39; not in spam:\n",
    "spam[&#39;color&#39;] = &#39;black&#39;"
   ]
  },
  {
   "cell_type": "code",
   "execution_count": 15,
   "id": "2dea93ab",
   "metadata": {},
   "outputs": [
    {
     "data": {
      "text/plain": [
       "{'cat': 'meow', 'dog': 'bark', 'bird': 'chirp', 'colour': 'red'}"
      ]
     },
     "execution_count": 15,
     "metadata": {},
     "output_type": "execute_result"
    }
   ],
   "source": [
    "#The dict.setdefault() method takes two arguments: the first is the key you want to add to the dictionary if it doesn't already exist, and the second is the default value to set if the key doesn't exist.\n",
    "spam.setdefault(\"colour\",\"black\")\n",
    "spam"
   ]
  },
  {
   "cell_type": "code",
   "execution_count": 14,
   "id": "8f90330e",
   "metadata": {},
   "outputs": [
    {
     "data": {
      "text/plain": [
       "{'cat': 'meow', 'dog': 'bark', 'bird': 'chirp', 'colour': 'red'}"
      ]
     },
     "execution_count": 14,
     "metadata": {},
     "output_type": "execute_result"
    }
   ],
   "source": [
    "#if key already exists setdefault() method returns its current value without changing it.\n",
    "\n",
    "spam = {'cat': 'meow', 'dog': 'bark', 'bird': 'chirp', 'colour': 'red'}\n",
    "spam.setdefault(\"colour\",\"black\")\n",
    "spam"
   ]
  },
  {
   "cell_type": "markdown",
   "id": "d807a834",
   "metadata": {},
   "source": [
    "8.How do you &quot;pretty print&quot; dictionary values using which module and function?"
   ]
  },
  {
   "cell_type": "markdown",
   "id": "52a2763f",
   "metadata": {},
   "source": [
    "You can \"pretty print\" dictionary values using the pprint module and its function pprint(). The pprint() function is designed to print complex data structures such as dictionaries in a more readable format, making it easier to understand their structure."
   ]
  },
  {
   "cell_type": "code",
   "execution_count": 19,
   "id": "3055269a",
   "metadata": {},
   "outputs": [
    {
     "name": "stdout",
     "output_type": "stream",
     "text": [
      "{'person': {'address': '123 Main St, San Francisco, CA 94107',\n",
      "            'age': 30,\n",
      "            'name': 'John Doe'}}\n"
     ]
    }
   ],
   "source": [
    "from pprint import pprint\n",
    "\n",
    "spam = small_dict = {\n",
    "    'person': {\n",
    "        'name': 'John Doe',\n",
    "        'age': 30,\n",
    "        'address': '123 Main St, San Francisco, CA 94107'\n",
    "    }\n",
    "}\n",
    "pprint(spam)"
   ]
  },
  {
   "cell_type": "code",
   "execution_count": null,
   "id": "76d035c9",
   "metadata": {},
   "outputs": [],
   "source": []
  }
 ],
 "metadata": {
  "kernelspec": {
   "display_name": "Python 3 (ipykernel)",
   "language": "python",
   "name": "python3"
  },
  "language_info": {
   "codemirror_mode": {
    "name": "ipython",
    "version": 3
   },
   "file_extension": ".py",
   "mimetype": "text/x-python",
   "name": "python",
   "nbconvert_exporter": "python",
   "pygments_lexer": "ipython3",
   "version": "3.9.13"
  }
 },
 "nbformat": 4,
 "nbformat_minor": 5
}
