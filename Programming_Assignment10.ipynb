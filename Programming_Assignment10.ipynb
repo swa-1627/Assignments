{
  "nbformat": 4,
  "nbformat_minor": 0,
  "metadata": {
    "colab": {
      "provenance": []
    },
    "kernelspec": {
      "name": "python3",
      "display_name": "Python 3"
    },
    "language_info": {
      "name": "python"
    }
  },
  "cells": [
    {
      "cell_type": "markdown",
      "source": [
        "1.Write a Python program to find sum of elements in list?"
      ],
      "metadata": {
        "id": "LaXfRaefcJZT"
      }
    },
    {
      "cell_type": "code",
      "source": [
        "l = [2,3,5,6,8,8,9]\n",
        "print(sum(l))"
      ],
      "metadata": {
        "colab": {
          "base_uri": "https://localhost:8080/"
        },
        "id": "VKNgiBhmcODB",
        "outputId": "0262c8b9-fac8-4f4f-997c-8629ec247553"
      },
      "execution_count": 2,
      "outputs": [
        {
          "output_type": "stream",
          "name": "stdout",
          "text": [
            "41\n"
          ]
        }
      ]
    },
    {
      "cell_type": "markdown",
      "source": [
        "2. Write a Python program to Multiply all numbers in the list?"
      ],
      "metadata": {
        "id": "-f2jAX0bcFmN"
      }
    },
    {
      "cell_type": "code",
      "source": [
        "import functools\n",
        "l = [2,3,5,6,8,8,9]\n",
        "x = functools.reduce(lambda x,y:x*y,l )\n",
        "print(x)"
      ],
      "metadata": {
        "colab": {
          "base_uri": "https://localhost:8080/"
        },
        "id": "YWpuR3incd82",
        "outputId": "0fe23248-fdaf-4f24-814e-ea812faee133"
      },
      "execution_count": 5,
      "outputs": [
        {
          "output_type": "stream",
          "name": "stdout",
          "text": [
            "103680\n"
          ]
        }
      ]
    },
    {
      "cell_type": "markdown",
      "source": [
        "3.Write a Python program to find smallest number in a list?"
      ],
      "metadata": {
        "id": "9yI-nPtmcZwP"
      }
    },
    {
      "cell_type": "code",
      "source": [
        "l = [2,3,5,6,8,8,9]\n",
        "print(min(l))"
      ],
      "metadata": {
        "colab": {
          "base_uri": "https://localhost:8080/"
        },
        "id": "JtnxIUhucKwz",
        "outputId": "b27ada53-1a0b-4c1b-fd97-3856aaf20a3c"
      },
      "execution_count": 6,
      "outputs": [
        {
          "output_type": "stream",
          "name": "stdout",
          "text": [
            "2\n"
          ]
        }
      ]
    },
    {
      "cell_type": "markdown",
      "source": [
        "4.Write a Python program to find largest number in a list?"
      ],
      "metadata": {
        "id": "wXvsnUgedAlc"
      }
    },
    {
      "cell_type": "code",
      "source": [
        "l = [2,3,5,6,8,8,9]\n",
        "print(max(l))"
      ],
      "metadata": {
        "colab": {
          "base_uri": "https://localhost:8080/"
        },
        "id": "zthEZ72Jc8aU",
        "outputId": "7338eec4-ade6-422a-9555-6932d25aa1ba"
      },
      "execution_count": 7,
      "outputs": [
        {
          "output_type": "stream",
          "name": "stdout",
          "text": [
            "9\n"
          ]
        }
      ]
    },
    {
      "cell_type": "markdown",
      "source": [
        "5. Write a Python program to find second largest number in a list?"
      ],
      "metadata": {
        "id": "ActNS8zOdJpd"
      }
    },
    {
      "cell_type": "code",
      "source": [
        "l = [2,3,5,6,8,8,9]\n",
        "l.remove(max(l))\n",
        "print(max(l))"
      ],
      "metadata": {
        "colab": {
          "base_uri": "https://localhost:8080/"
        },
        "id": "Lq6_BjCAdEre",
        "outputId": "4b4021ef-541d-4156-90d1-919cc0aa9f2e"
      },
      "execution_count": 9,
      "outputs": [
        {
          "output_type": "stream",
          "name": "stdout",
          "text": [
            "8\n"
          ]
        }
      ]
    },
    {
      "cell_type": "markdown",
      "source": [
        "6.Write a Python program to find N largest elements from a list?"
      ],
      "metadata": {
        "id": "Q1DRTrBcddTl"
      }
    },
    {
      "cell_type": "code",
      "source": [
        "l = [2,3,5,6,8,8,9,2,56,12,92,112]\n",
        "N = int(input(\"enter N: \"))\n",
        "for i in range(N):\n",
        "  a = max(l)\n",
        "  print(a, end=\" \")\n",
        "  l.remove(a)"
      ],
      "metadata": {
        "colab": {
          "base_uri": "https://localhost:8080/"
        },
        "id": "ZVXxdIW6dRnS",
        "outputId": "211fbd38-1fb1-4cd6-82b3-7c749c1b1a7b"
      },
      "execution_count": 13,
      "outputs": [
        {
          "output_type": "stream",
          "name": "stdout",
          "text": [
            "enter N: 3\n",
            "112 92 56 "
          ]
        }
      ]
    },
    {
      "cell_type": "markdown",
      "source": [
        "7. Write a Python program to print even numbers in a list?"
      ],
      "metadata": {
        "id": "35ohcb7cefff"
      }
    },
    {
      "cell_type": "code",
      "source": [
        "l = [2,3,5,6,8,9,56,12,92,112]\n",
        "x = list(filter(lambda x: x%2==0,l))\n",
        "print(x)"
      ],
      "metadata": {
        "colab": {
          "base_uri": "https://localhost:8080/"
        },
        "id": "MtxuyHM9eGW8",
        "outputId": "5a099404-6ac7-4d3b-e660-898918ab3b3a"
      },
      "execution_count": 19,
      "outputs": [
        {
          "output_type": "stream",
          "name": "stdout",
          "text": [
            "[2, 6, 8, 56, 12, 92, 112]\n"
          ]
        }
      ]
    },
    {
      "cell_type": "markdown",
      "source": [
        "8.Write a Python program to print odd numbers in a List?"
      ],
      "metadata": {
        "id": "0Wc2Ous9fCf2"
      }
    },
    {
      "cell_type": "code",
      "source": [
        "l = [2,3,5,6,8,9,56,12,92,112]\n",
        "x = list(filter(lambda x: x%2!=0,l))\n",
        "print(x)"
      ],
      "metadata": {
        "colab": {
          "base_uri": "https://localhost:8080/"
        },
        "id": "E8EaX-JpepKR",
        "outputId": "df1535e2-ae73-41f9-8b43-fb58583bfccd"
      },
      "execution_count": 20,
      "outputs": [
        {
          "output_type": "stream",
          "name": "stdout",
          "text": [
            "[3, 5, 9]\n"
          ]
        }
      ]
    },
    {
      "cell_type": "markdown",
      "source": [
        "9. Write a Python program to Remove empty List from List?"
      ],
      "metadata": {
        "id": "okGD-G6LfL_y"
      }
    },
    {
      "cell_type": "code",
      "source": [
        "l = [[2,3,5,6,8],[],[\"ineuron\",\"code\"],[\"a\",\"e\",\"i\",\"o\",\"u\"],[]]\n",
        "for i in l:\n",
        "  if i==[]:\n",
        "    l.remove(i)\n",
        "print(l)"
      ],
      "metadata": {
        "colab": {
          "base_uri": "https://localhost:8080/"
        },
        "id": "XkgsIPI-fF0j",
        "outputId": "bf80eba1-3059-4170-b947-d8726ae788a7"
      },
      "execution_count": 25,
      "outputs": [
        {
          "output_type": "stream",
          "name": "stdout",
          "text": [
            "[[2, 3, 5, 6, 8], ['ineuron', 'code'], ['a', 'e', 'i', 'o', 'u']]\n"
          ]
        }
      ]
    },
    {
      "cell_type": "markdown",
      "source": [
        "10. Write a Python program to Cloning or Copying a list?"
      ],
      "metadata": {
        "id": "fK87tIKEfuj-"
      }
    },
    {
      "cell_type": "code",
      "source": [
        "l = [[2, 3, 5, 6, 8], ['ineuron', 'code'], ['a', 'e', 'i', 'o', 'u']]\n",
        "l1 =[]\n",
        "for i in l:\n",
        "  l1.append(i)\n",
        "print(l1)\n"
      ],
      "metadata": {
        "colab": {
          "base_uri": "https://localhost:8080/"
        },
        "id": "2lsxJj0BfjCJ",
        "outputId": "b86da981-cd85-4a5b-9ccc-d06b41206956"
      },
      "execution_count": 26,
      "outputs": [
        {
          "output_type": "stream",
          "name": "stdout",
          "text": [
            "[[2, 3, 5, 6, 8], ['ineuron', 'code'], ['a', 'e', 'i', 'o', 'u']]\n"
          ]
        }
      ]
    },
    {
      "cell_type": "code",
      "source": [
        "l = [[2, 3, 5, 6, 8], ['ineuron', 'code'], ['a', 'e', 'i', 'o', 'u']]\n",
        "l1 = l.copy()\n",
        "print(\"copy of l is\", l1)"
      ],
      "metadata": {
        "colab": {
          "base_uri": "https://localhost:8080/"
        },
        "id": "ghe_uu-Tf4xg",
        "outputId": "f974ca3f-fa78-4732-f29d-5c186310bbf3"
      },
      "execution_count": 31,
      "outputs": [
        {
          "output_type": "stream",
          "name": "stdout",
          "text": [
            "copy of l is [[2, 3, 5, 6, 8], ['ineuron', 'code'], ['a', 'e', 'i', 'o', 'u']]\n"
          ]
        }
      ]
    },
    {
      "cell_type": "markdown",
      "source": [
        "11. Write a Python program to Count occurrences of an element in a list?"
      ],
      "metadata": {
        "id": "kuUxdZ0ZgRdI"
      }
    },
    {
      "cell_type": "code",
      "source": [
        "l = [2,3,5,6,8,9,56,12,2,4,5,12,2,3,112]\n",
        "for i in set(l):\n",
        "  print(i,\":\",l.count(i))"
      ],
      "metadata": {
        "colab": {
          "base_uri": "https://localhost:8080/"
        },
        "id": "2S3nD-wygB5v",
        "outputId": "18238b1e-6ac6-4120-8e14-e419a5ff054d"
      },
      "execution_count": 33,
      "outputs": [
        {
          "output_type": "stream",
          "name": "stdout",
          "text": [
            "2 : 3\n",
            "3 : 2\n",
            "4 : 1\n",
            "5 : 2\n",
            "6 : 1\n",
            "8 : 1\n",
            "9 : 1\n",
            "12 : 2\n",
            "112 : 1\n",
            "56 : 1\n",
            "92 : 1\n"
          ]
        }
      ]
    },
    {
      "cell_type": "code",
      "source": [],
      "metadata": {
        "id": "LFMrYWW8gqBu"
      },
      "execution_count": null,
      "outputs": []
    }
  ]
}